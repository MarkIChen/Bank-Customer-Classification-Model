{
  "nbformat": 4,
  "nbformat_minor": 0,
  "metadata": {
    "colab": {
      "name": "Bank_Customer_Classification.ipynb",
      "provenance": [],
      "collapsed_sections": []
    },
    "kernelspec": {
      "name": "python3",
      "display_name": "Python 3"
    },
    "accelerator": "GPU"
  },
  "cells": [
    {
      "cell_type": "markdown",
      "metadata": {
        "id": "ZqcutxUiSILa",
        "colab_type": "text"
      },
      "source": [
        "# Get Data"
      ]
    },
    {
      "cell_type": "code",
      "metadata": {
        "id": "jhWsYmj9SFAz",
        "colab_type": "code",
        "colab": {}
      },
      "source": [
        "import requests\n",
        "import pandas as pd"
      ],
      "execution_count": 0,
      "outputs": []
    },
    {
      "cell_type": "code",
      "metadata": {
        "id": "Lsilk8EdQeUO",
        "colab_type": "code",
        "colab": {}
      },
      "source": [
        "url = 'https://raw.githubusercontent.com/MarkIChen/Bank-Customer-Classification-Model/master/Churn_Modelling.csv'\n",
        "dataset = pd.read_csv(url)"
      ],
      "execution_count": 0,
      "outputs": []
    },
    {
      "cell_type": "code",
      "metadata": {
        "id": "fUyL44HmScBz",
        "colab_type": "code",
        "outputId": "a8f43078-6731-43a0-a9e5-5a1b1d711bf3",
        "colab": {
          "base_uri": "https://localhost:8080/",
          "height": 379
        }
      },
      "source": [
        "dataset.head(10)"
      ],
      "execution_count": 3,
      "outputs": [
        {
          "output_type": "execute_result",
          "data": {
            "text/html": [
              "<div>\n",
              "<style scoped>\n",
              "    .dataframe tbody tr th:only-of-type {\n",
              "        vertical-align: middle;\n",
              "    }\n",
              "\n",
              "    .dataframe tbody tr th {\n",
              "        vertical-align: top;\n",
              "    }\n",
              "\n",
              "    .dataframe thead th {\n",
              "        text-align: right;\n",
              "    }\n",
              "</style>\n",
              "<table border=\"1\" class=\"dataframe\">\n",
              "  <thead>\n",
              "    <tr style=\"text-align: right;\">\n",
              "      <th></th>\n",
              "      <th>RowNumber</th>\n",
              "      <th>CustomerId</th>\n",
              "      <th>Surname</th>\n",
              "      <th>CreditScore</th>\n",
              "      <th>Geography</th>\n",
              "      <th>Gender</th>\n",
              "      <th>Age</th>\n",
              "      <th>Tenure</th>\n",
              "      <th>Balance</th>\n",
              "      <th>NumOfProducts</th>\n",
              "      <th>HasCrCard</th>\n",
              "      <th>IsActiveMember</th>\n",
              "      <th>EstimatedSalary</th>\n",
              "      <th>Exited</th>\n",
              "    </tr>\n",
              "  </thead>\n",
              "  <tbody>\n",
              "    <tr>\n",
              "      <th>0</th>\n",
              "      <td>1</td>\n",
              "      <td>15634602</td>\n",
              "      <td>Hargrave</td>\n",
              "      <td>619</td>\n",
              "      <td>France</td>\n",
              "      <td>Female</td>\n",
              "      <td>42</td>\n",
              "      <td>2</td>\n",
              "      <td>0.00</td>\n",
              "      <td>1</td>\n",
              "      <td>1</td>\n",
              "      <td>1</td>\n",
              "      <td>101348.88</td>\n",
              "      <td>1</td>\n",
              "    </tr>\n",
              "    <tr>\n",
              "      <th>1</th>\n",
              "      <td>2</td>\n",
              "      <td>15647311</td>\n",
              "      <td>Hill</td>\n",
              "      <td>608</td>\n",
              "      <td>Spain</td>\n",
              "      <td>Female</td>\n",
              "      <td>41</td>\n",
              "      <td>1</td>\n",
              "      <td>83807.86</td>\n",
              "      <td>1</td>\n",
              "      <td>0</td>\n",
              "      <td>1</td>\n",
              "      <td>112542.58</td>\n",
              "      <td>0</td>\n",
              "    </tr>\n",
              "    <tr>\n",
              "      <th>2</th>\n",
              "      <td>3</td>\n",
              "      <td>15619304</td>\n",
              "      <td>Onio</td>\n",
              "      <td>502</td>\n",
              "      <td>France</td>\n",
              "      <td>Female</td>\n",
              "      <td>42</td>\n",
              "      <td>8</td>\n",
              "      <td>159660.80</td>\n",
              "      <td>3</td>\n",
              "      <td>1</td>\n",
              "      <td>0</td>\n",
              "      <td>113931.57</td>\n",
              "      <td>1</td>\n",
              "    </tr>\n",
              "    <tr>\n",
              "      <th>3</th>\n",
              "      <td>4</td>\n",
              "      <td>15701354</td>\n",
              "      <td>Boni</td>\n",
              "      <td>699</td>\n",
              "      <td>France</td>\n",
              "      <td>Female</td>\n",
              "      <td>39</td>\n",
              "      <td>1</td>\n",
              "      <td>0.00</td>\n",
              "      <td>2</td>\n",
              "      <td>0</td>\n",
              "      <td>0</td>\n",
              "      <td>93826.63</td>\n",
              "      <td>0</td>\n",
              "    </tr>\n",
              "    <tr>\n",
              "      <th>4</th>\n",
              "      <td>5</td>\n",
              "      <td>15737888</td>\n",
              "      <td>Mitchell</td>\n",
              "      <td>850</td>\n",
              "      <td>Spain</td>\n",
              "      <td>Female</td>\n",
              "      <td>43</td>\n",
              "      <td>2</td>\n",
              "      <td>125510.82</td>\n",
              "      <td>1</td>\n",
              "      <td>1</td>\n",
              "      <td>1</td>\n",
              "      <td>79084.10</td>\n",
              "      <td>0</td>\n",
              "    </tr>\n",
              "    <tr>\n",
              "      <th>5</th>\n",
              "      <td>6</td>\n",
              "      <td>15574012</td>\n",
              "      <td>Chu</td>\n",
              "      <td>645</td>\n",
              "      <td>Spain</td>\n",
              "      <td>Male</td>\n",
              "      <td>44</td>\n",
              "      <td>8</td>\n",
              "      <td>113755.78</td>\n",
              "      <td>2</td>\n",
              "      <td>1</td>\n",
              "      <td>0</td>\n",
              "      <td>149756.71</td>\n",
              "      <td>1</td>\n",
              "    </tr>\n",
              "    <tr>\n",
              "      <th>6</th>\n",
              "      <td>7</td>\n",
              "      <td>15592531</td>\n",
              "      <td>Bartlett</td>\n",
              "      <td>822</td>\n",
              "      <td>France</td>\n",
              "      <td>Male</td>\n",
              "      <td>50</td>\n",
              "      <td>7</td>\n",
              "      <td>0.00</td>\n",
              "      <td>2</td>\n",
              "      <td>1</td>\n",
              "      <td>1</td>\n",
              "      <td>10062.80</td>\n",
              "      <td>0</td>\n",
              "    </tr>\n",
              "    <tr>\n",
              "      <th>7</th>\n",
              "      <td>8</td>\n",
              "      <td>15656148</td>\n",
              "      <td>Obinna</td>\n",
              "      <td>376</td>\n",
              "      <td>Germany</td>\n",
              "      <td>Female</td>\n",
              "      <td>29</td>\n",
              "      <td>4</td>\n",
              "      <td>115046.74</td>\n",
              "      <td>4</td>\n",
              "      <td>1</td>\n",
              "      <td>0</td>\n",
              "      <td>119346.88</td>\n",
              "      <td>1</td>\n",
              "    </tr>\n",
              "    <tr>\n",
              "      <th>8</th>\n",
              "      <td>9</td>\n",
              "      <td>15792365</td>\n",
              "      <td>He</td>\n",
              "      <td>501</td>\n",
              "      <td>France</td>\n",
              "      <td>Male</td>\n",
              "      <td>44</td>\n",
              "      <td>4</td>\n",
              "      <td>142051.07</td>\n",
              "      <td>2</td>\n",
              "      <td>0</td>\n",
              "      <td>1</td>\n",
              "      <td>74940.50</td>\n",
              "      <td>0</td>\n",
              "    </tr>\n",
              "    <tr>\n",
              "      <th>9</th>\n",
              "      <td>10</td>\n",
              "      <td>15592389</td>\n",
              "      <td>H?</td>\n",
              "      <td>684</td>\n",
              "      <td>France</td>\n",
              "      <td>Male</td>\n",
              "      <td>27</td>\n",
              "      <td>2</td>\n",
              "      <td>134603.88</td>\n",
              "      <td>1</td>\n",
              "      <td>1</td>\n",
              "      <td>1</td>\n",
              "      <td>71725.73</td>\n",
              "      <td>0</td>\n",
              "    </tr>\n",
              "  </tbody>\n",
              "</table>\n",
              "</div>"
            ],
            "text/plain": [
              "   RowNumber  CustomerId   Surname  ...  IsActiveMember EstimatedSalary Exited\n",
              "0          1    15634602  Hargrave  ...               1       101348.88      1\n",
              "1          2    15647311      Hill  ...               1       112542.58      0\n",
              "2          3    15619304      Onio  ...               0       113931.57      1\n",
              "3          4    15701354      Boni  ...               0        93826.63      0\n",
              "4          5    15737888  Mitchell  ...               1        79084.10      0\n",
              "5          6    15574012       Chu  ...               0       149756.71      1\n",
              "6          7    15592531  Bartlett  ...               1        10062.80      0\n",
              "7          8    15656148    Obinna  ...               0       119346.88      1\n",
              "8          9    15792365        He  ...               1        74940.50      0\n",
              "9         10    15592389        H?  ...               1        71725.73      0\n",
              "\n",
              "[10 rows x 14 columns]"
            ]
          },
          "metadata": {
            "tags": []
          },
          "execution_count": 3
        }
      ]
    },
    {
      "cell_type": "code",
      "metadata": {
        "id": "AqRO7FTMZDqy",
        "colab_type": "code",
        "outputId": "3d9630d3-c4b6-4309-eb6d-a6d1c080c495",
        "colab": {
          "base_uri": "https://localhost:8080/",
          "height": 34
        }
      },
      "source": [
        "dataset.shape"
      ],
      "execution_count": 4,
      "outputs": [
        {
          "output_type": "execute_result",
          "data": {
            "text/plain": [
              "(10000, 14)"
            ]
          },
          "metadata": {
            "tags": []
          },
          "execution_count": 4
        }
      ]
    },
    {
      "cell_type": "markdown",
      "metadata": {
        "id": "CaprJFKsT1jp",
        "colab_type": "text"
      },
      "source": [
        "# Create Training Data"
      ]
    },
    {
      "cell_type": "code",
      "metadata": {
        "id": "c9FwmRp5T4cU",
        "colab_type": "code",
        "colab": {}
      },
      "source": [
        "X = dataset.iloc[:, 3:13].values\n",
        "y = dataset.iloc[:, 13].values"
      ],
      "execution_count": 0,
      "outputs": []
    },
    {
      "cell_type": "code",
      "metadata": {
        "id": "GERHhVvVZHje",
        "colab_type": "code",
        "outputId": "81c4c806-1556-4916-f594-d5adc6e4e987",
        "colab": {
          "base_uri": "https://localhost:8080/",
          "height": 34
        }
      },
      "source": [
        "X.shape, y.shape"
      ],
      "execution_count": 6,
      "outputs": [
        {
          "output_type": "execute_result",
          "data": {
            "text/plain": [
              "((10000, 10), (10000,))"
            ]
          },
          "metadata": {
            "tags": []
          },
          "execution_count": 6
        }
      ]
    },
    {
      "cell_type": "code",
      "metadata": {
        "id": "j6Az_K-fyNrS",
        "colab_type": "code",
        "outputId": "bfbf2fad-877f-4055-819d-f6ac699924d9",
        "colab": {
          "base_uri": "https://localhost:8080/",
          "height": 34
        }
      },
      "source": [
        "y"
      ],
      "execution_count": 7,
      "outputs": [
        {
          "output_type": "execute_result",
          "data": {
            "text/plain": [
              "array([1, 0, 1, ..., 1, 1, 0])"
            ]
          },
          "metadata": {
            "tags": []
          },
          "execution_count": 7
        }
      ]
    },
    {
      "cell_type": "markdown",
      "metadata": {
        "id": "AiUs3LsWUNY6",
        "colab_type": "text"
      },
      "source": [
        "# Encode dataset"
      ]
    },
    {
      "cell_type": "code",
      "metadata": {
        "id": "tI6hT7PZUCJ8",
        "colab_type": "code",
        "outputId": "e58c7589-ee37-424e-cbcf-6db5c0c8ffdf",
        "colab": {
          "base_uri": "https://localhost:8080/",
          "height": 136
        }
      },
      "source": [
        "X"
      ],
      "execution_count": 8,
      "outputs": [
        {
          "output_type": "execute_result",
          "data": {
            "text/plain": [
              "array([[619, 'France', 'Female', ..., 1, 1, 101348.88],\n",
              "       [608, 'Spain', 'Female', ..., 0, 1, 112542.58],\n",
              "       [502, 'France', 'Female', ..., 1, 0, 113931.57],\n",
              "       ...,\n",
              "       [709, 'France', 'Female', ..., 0, 1, 42085.58],\n",
              "       [772, 'Germany', 'Male', ..., 1, 0, 92888.52],\n",
              "       [792, 'France', 'Female', ..., 1, 0, 38190.78]], dtype=object)"
            ]
          },
          "metadata": {
            "tags": []
          },
          "execution_count": 8
        }
      ]
    },
    {
      "cell_type": "markdown",
      "metadata": {
        "id": "fxj5FRiRUe5q",
        "colab_type": "text"
      },
      "source": [
        "We need to encide contry and gender variables."
      ]
    },
    {
      "cell_type": "code",
      "metadata": {
        "id": "RU4Y6ZbEUCrs",
        "colab_type": "code",
        "colab": {}
      },
      "source": [
        "from sklearn.preprocessing import LabelEncoder, OneHotEncoder\n",
        "from sklearn.compose import ColumnTransformer"
      ],
      "execution_count": 0,
      "outputs": []
    },
    {
      "cell_type": "code",
      "metadata": {
        "id": "_xZEi3l6UqMz",
        "colab_type": "code",
        "colab": {}
      },
      "source": [
        "labelencoder_X_1 = LabelEncoder()\n",
        "X[:, 1] = labelencoder_X_1.fit_transform(X[:, 1]) "
      ],
      "execution_count": 0,
      "outputs": []
    },
    {
      "cell_type": "code",
      "metadata": {
        "colab_type": "code",
        "id": "_u6BTJSCm9iC",
        "colab": {}
      },
      "source": [
        "labelencoder_X_2 = LabelEncoder()\n",
        "X[:, 2] = labelencoder_X_2.fit_transform(X[:, 2]) "
      ],
      "execution_count": 0,
      "outputs": []
    },
    {
      "cell_type": "code",
      "metadata": {
        "id": "6eaCSKJUnBNF",
        "colab_type": "code",
        "outputId": "b857e875-44f6-467b-e9a2-bcc9ec89b2c0",
        "colab": {
          "base_uri": "https://localhost:8080/",
          "height": 136
        }
      },
      "source": [
        "X"
      ],
      "execution_count": 12,
      "outputs": [
        {
          "output_type": "execute_result",
          "data": {
            "text/plain": [
              "array([[619, 0, 0, ..., 1, 1, 101348.88],\n",
              "       [608, 2, 0, ..., 0, 1, 112542.58],\n",
              "       [502, 0, 0, ..., 1, 0, 113931.57],\n",
              "       ...,\n",
              "       [709, 0, 0, ..., 0, 1, 42085.58],\n",
              "       [772, 1, 1, ..., 1, 0, 92888.52],\n",
              "       [792, 0, 0, ..., 1, 0, 38190.78]], dtype=object)"
            ]
          },
          "metadata": {
            "tags": []
          },
          "execution_count": 12
        }
      ]
    },
    {
      "cell_type": "code",
      "metadata": {
        "id": "NziFUT8JVPqv",
        "colab_type": "code",
        "outputId": "4d060e54-577d-4aec-8b05-3e221170c7af",
        "colab": {
          "base_uri": "https://localhost:8080/",
          "height": 34
        }
      },
      "source": [
        "X.shape"
      ],
      "execution_count": 13,
      "outputs": [
        {
          "output_type": "execute_result",
          "data": {
            "text/plain": [
              "(10000, 10)"
            ]
          },
          "metadata": {
            "tags": []
          },
          "execution_count": 13
        }
      ]
    },
    {
      "cell_type": "code",
      "metadata": {
        "id": "SYhygVeuVlft",
        "colab_type": "code",
        "colab": {}
      },
      "source": [
        "# onehotencoder = OneHotEncoder(categorical_features=[1])\n",
        "# X = onehotencoder.fit_transform(X).toarray()\n",
        "ct = ColumnTransformer([(\"Country\", OneHotEncoder(), [1])], remainder = 'passthrough')\n",
        "X = ct.fit_transform(X)"
      ],
      "execution_count": 0,
      "outputs": []
    },
    {
      "cell_type": "code",
      "metadata": {
        "id": "x1DVh1rJmtaV",
        "colab_type": "code",
        "outputId": "b96c69ba-e42b-4abc-95dd-40389bb6780d",
        "colab": {
          "base_uri": "https://localhost:8080/",
          "height": 136
        }
      },
      "source": [
        "X"
      ],
      "execution_count": 15,
      "outputs": [
        {
          "output_type": "execute_result",
          "data": {
            "text/plain": [
              "array([[1.0, 0.0, 0.0, ..., 1, 1, 101348.88],\n",
              "       [0.0, 0.0, 1.0, ..., 0, 1, 112542.58],\n",
              "       [1.0, 0.0, 0.0, ..., 1, 0, 113931.57],\n",
              "       ...,\n",
              "       [1.0, 0.0, 0.0, ..., 0, 1, 42085.58],\n",
              "       [0.0, 1.0, 0.0, ..., 1, 0, 92888.52],\n",
              "       [1.0, 0.0, 0.0, ..., 1, 0, 38190.78]], dtype=object)"
            ]
          },
          "metadata": {
            "tags": []
          },
          "execution_count": 15
        }
      ]
    },
    {
      "cell_type": "code",
      "metadata": {
        "id": "5LgwzLg6VQCJ",
        "colab_type": "code",
        "outputId": "da6a0f9c-1832-4a13-efb4-477f1eab5210",
        "colab": {
          "base_uri": "https://localhost:8080/",
          "height": 34
        }
      },
      "source": [
        "X.shape"
      ],
      "execution_count": 16,
      "outputs": [
        {
          "output_type": "execute_result",
          "data": {
            "text/plain": [
              "(10000, 12)"
            ]
          },
          "metadata": {
            "tags": []
          },
          "execution_count": 16
        }
      ]
    },
    {
      "cell_type": "markdown",
      "metadata": {
        "id": "R3Bgo60FW0PZ",
        "colab_type": "text"
      },
      "source": [
        "To avoid dumy variable, delete the first col.\n"
      ]
    },
    {
      "cell_type": "code",
      "metadata": {
        "id": "EbxTWOZMWz1v",
        "colab_type": "code",
        "colab": {}
      },
      "source": [
        "X = X[:, 1:]"
      ],
      "execution_count": 0,
      "outputs": []
    },
    {
      "cell_type": "code",
      "metadata": {
        "id": "oG8yI5iOWYkv",
        "colab_type": "code",
        "outputId": "96cef719-4dde-4535-d05a-535d058173a1",
        "colab": {
          "base_uri": "https://localhost:8080/",
          "height": 34
        }
      },
      "source": [
        "X.shape"
      ],
      "execution_count": 18,
      "outputs": [
        {
          "output_type": "execute_result",
          "data": {
            "text/plain": [
              "(10000, 11)"
            ]
          },
          "metadata": {
            "tags": []
          },
          "execution_count": 18
        }
      ]
    },
    {
      "cell_type": "markdown",
      "metadata": {
        "id": "pMqiuXkOXHOE",
        "colab_type": "text"
      },
      "source": [
        "# Split data"
      ]
    },
    {
      "cell_type": "code",
      "metadata": {
        "id": "m798XDqWW7L_",
        "colab_type": "code",
        "colab": {}
      },
      "source": [
        "from sklearn.model_selection import  train_test_split"
      ],
      "execution_count": 0,
      "outputs": []
    },
    {
      "cell_type": "code",
      "metadata": {
        "id": "QWAV1unxXOho",
        "colab_type": "code",
        "colab": {}
      },
      "source": [
        "X_train, X_test, y_train, y_test = train_test_split(X, y, \n",
        "                                                    test_size = 0.2,\n",
        "                                                    random_state = 0\n",
        "                                                    )"
      ],
      "execution_count": 0,
      "outputs": []
    },
    {
      "cell_type": "markdown",
      "metadata": {
        "id": "LpSD2W8Ay7oT",
        "colab_type": "text"
      },
      "source": [
        "# Feature Scaling"
      ]
    },
    {
      "cell_type": "markdown",
      "metadata": {
        "id": "vBaXU41Rz6vM",
        "colab_type": "text"
      },
      "source": [
        "I forgot this process in the beginning, and it will cause bias of the model."
      ]
    },
    {
      "cell_type": "code",
      "metadata": {
        "id": "LKUhCxsYy7Cm",
        "colab_type": "code",
        "colab": {}
      },
      "source": [
        "from sklearn.preprocessing import StandardScaler"
      ],
      "execution_count": 0,
      "outputs": []
    },
    {
      "cell_type": "code",
      "metadata": {
        "id": "Dhfp1wXszE4K",
        "colab_type": "code",
        "colab": {}
      },
      "source": [
        "sc = StandardScaler()\n",
        "X_train = sc.fit_transform(X_train)\n",
        "X_test = sc.fit_transform(X_test)"
      ],
      "execution_count": 0,
      "outputs": []
    },
    {
      "cell_type": "markdown",
      "metadata": {
        "id": "2IMtrLTgX5L8",
        "colab_type": "text"
      },
      "source": [
        "# Import Library"
      ]
    },
    {
      "cell_type": "code",
      "metadata": {
        "id": "BSoigEsuXcmW",
        "colab_type": "code",
        "colab": {
          "base_uri": "https://localhost:8080/",
          "height": 97
        },
        "outputId": "980d8a8a-a1c2-4a05-caef-4dad9a8cfb0d"
      },
      "source": [
        "import tensorflow.keras as keras\n",
        "from keras.models import Sequential\n",
        "from keras.layers import Dense"
      ],
      "execution_count": 23,
      "outputs": [
        {
          "output_type": "display_data",
          "data": {
            "text/html": [
              "<p style=\"color: red;\">\n",
              "The default version of TensorFlow in Colab will soon switch to TensorFlow 2.x.<br>\n",
              "We recommend you <a href=\"https://www.tensorflow.org/guide/migrate\" target=\"_blank\">upgrade</a> now \n",
              "or ensure your notebook will continue to use TensorFlow 1.x via the <code>%tensorflow_version 1.x</code> magic:\n",
              "<a href=\"https://colab.research.google.com/notebooks/tensorflow_version.ipynb\" target=\"_blank\">more info</a>.</p>\n"
            ],
            "text/plain": [
              "<IPython.core.display.HTML object>"
            ]
          },
          "metadata": {
            "tags": []
          }
        },
        {
          "output_type": "stream",
          "text": [
            "Using TensorFlow backend.\n"
          ],
          "name": "stderr"
        }
      ]
    },
    {
      "cell_type": "markdown",
      "metadata": {
        "id": "d3TjxyCEYWXD",
        "colab_type": "text"
      },
      "source": [
        "# Initializing ANN and Building the model"
      ]
    },
    {
      "cell_type": "code",
      "metadata": {
        "id": "PVVuIvb9X71w",
        "colab_type": "code",
        "colab": {
          "base_uri": "https://localhost:8080/",
          "height": 71
        },
        "outputId": "ea7ce4f7-84da-42aa-9e66-c1c54766b01c"
      },
      "source": [
        "classifier = Sequential()"
      ],
      "execution_count": 24,
      "outputs": [
        {
          "output_type": "stream",
          "text": [
            "WARNING:tensorflow:From /usr/local/lib/python3.6/dist-packages/keras/backend/tensorflow_backend.py:66: The name tf.get_default_graph is deprecated. Please use tf.compat.v1.get_default_graph instead.\n",
            "\n"
          ],
          "name": "stdout"
        }
      ]
    },
    {
      "cell_type": "code",
      "metadata": {
        "id": "3g5Ulz86Yin1",
        "colab_type": "code",
        "outputId": "da323d9d-e110-4fcb-92cf-7d135544b152",
        "colab": {
          "base_uri": "https://localhost:8080/",
          "height": 34
        }
      },
      "source": [
        "X_train.shape"
      ],
      "execution_count": 25,
      "outputs": [
        {
          "output_type": "execute_result",
          "data": {
            "text/plain": [
              "(8000, 11)"
            ]
          },
          "metadata": {
            "tags": []
          },
          "execution_count": 25
        }
      ]
    },
    {
      "cell_type": "code",
      "metadata": {
        "id": "R-htmwF3Y6Kp",
        "colab_type": "code",
        "colab": {
          "base_uri": "https://localhost:8080/",
          "height": 105
        },
        "outputId": "07b81946-67f5-4069-c231-7623e21d7170"
      },
      "source": [
        "# First layer\n",
        "classifier.add(Dense(6, input_dim = 11, kernel_initializer = 'uniform', activation= 'relu'))\n",
        "# Second layer\n",
        "classifier.add(Dense(6, kernel_initializer='uniform', activation='relu'))\n",
        "# output layer\n",
        "classifier.add(Dense(1, kernel_initializer='uniform', activation='sigmoid'))"
      ],
      "execution_count": 26,
      "outputs": [
        {
          "output_type": "stream",
          "text": [
            "WARNING:tensorflow:From /usr/local/lib/python3.6/dist-packages/keras/backend/tensorflow_backend.py:541: The name tf.placeholder is deprecated. Please use tf.compat.v1.placeholder instead.\n",
            "\n",
            "WARNING:tensorflow:From /usr/local/lib/python3.6/dist-packages/keras/backend/tensorflow_backend.py:4432: The name tf.random_uniform is deprecated. Please use tf.random.uniform instead.\n",
            "\n"
          ],
          "name": "stdout"
        }
      ]
    },
    {
      "cell_type": "code",
      "metadata": {
        "id": "f7RjRp06dt_g",
        "colab_type": "code",
        "colab": {
          "base_uri": "https://localhost:8080/",
          "height": 156
        },
        "outputId": "9d96eb60-edfd-4377-a48a-4d93b3404e45"
      },
      "source": [
        "# apply some algorithms to update the weights in the model\n",
        "classifier.compile(optimizer='adam', loss='binary_crossentropy', metrics=['accuracy'])"
      ],
      "execution_count": 27,
      "outputs": [
        {
          "output_type": "stream",
          "text": [
            "WARNING:tensorflow:From /usr/local/lib/python3.6/dist-packages/keras/optimizers.py:793: The name tf.train.Optimizer is deprecated. Please use tf.compat.v1.train.Optimizer instead.\n",
            "\n",
            "WARNING:tensorflow:From /usr/local/lib/python3.6/dist-packages/keras/backend/tensorflow_backend.py:3657: The name tf.log is deprecated. Please use tf.math.log instead.\n",
            "\n",
            "WARNING:tensorflow:From /usr/local/lib/python3.6/dist-packages/tensorflow_core/python/ops/nn_impl.py:183: where (from tensorflow.python.ops.array_ops) is deprecated and will be removed in a future version.\n",
            "Instructions for updating:\n",
            "Use tf.where in 2.0, which has the same broadcast rule as np.where\n"
          ],
          "name": "stdout"
        }
      ]
    },
    {
      "cell_type": "markdown",
      "metadata": {
        "id": "EzOzhM07ffXr",
        "colab_type": "text"
      },
      "source": [
        "# Train the ANN model"
      ]
    },
    {
      "cell_type": "code",
      "metadata": {
        "id": "y8obOPnae2W2",
        "colab_type": "code",
        "outputId": "f46ba5ae-4503-4f8e-ade9-eec8386ac2cb",
        "colab": {
          "base_uri": "https://localhost:8080/",
          "height": 1000
        }
      },
      "source": [
        "classifier.fit(X_train, y_train, batch_size=10, epochs=100)"
      ],
      "execution_count": 28,
      "outputs": [
        {
          "output_type": "stream",
          "text": [
            "WARNING:tensorflow:From /usr/local/lib/python3.6/dist-packages/keras/backend/tensorflow_backend.py:1033: The name tf.assign_add is deprecated. Please use tf.compat.v1.assign_add instead.\n",
            "\n",
            "WARNING:tensorflow:From /usr/local/lib/python3.6/dist-packages/keras/backend/tensorflow_backend.py:1020: The name tf.assign is deprecated. Please use tf.compat.v1.assign instead.\n",
            "\n",
            "WARNING:tensorflow:From /usr/local/lib/python3.6/dist-packages/keras/backend/tensorflow_backend.py:3005: The name tf.Session is deprecated. Please use tf.compat.v1.Session instead.\n",
            "\n",
            "Epoch 1/100\n",
            "WARNING:tensorflow:From /usr/local/lib/python3.6/dist-packages/keras/backend/tensorflow_backend.py:190: The name tf.get_default_session is deprecated. Please use tf.compat.v1.get_default_session instead.\n",
            "\n",
            "WARNING:tensorflow:From /usr/local/lib/python3.6/dist-packages/keras/backend/tensorflow_backend.py:197: The name tf.ConfigProto is deprecated. Please use tf.compat.v1.ConfigProto instead.\n",
            "\n",
            "WARNING:tensorflow:From /usr/local/lib/python3.6/dist-packages/keras/backend/tensorflow_backend.py:207: The name tf.global_variables is deprecated. Please use tf.compat.v1.global_variables instead.\n",
            "\n",
            "WARNING:tensorflow:From /usr/local/lib/python3.6/dist-packages/keras/backend/tensorflow_backend.py:216: The name tf.is_variable_initialized is deprecated. Please use tf.compat.v1.is_variable_initialized instead.\n",
            "\n",
            "WARNING:tensorflow:From /usr/local/lib/python3.6/dist-packages/keras/backend/tensorflow_backend.py:223: The name tf.variables_initializer is deprecated. Please use tf.compat.v1.variables_initializer instead.\n",
            "\n",
            "8000/8000 [==============================] - 13s 2ms/step - loss: 0.4863 - acc: 0.7950\n",
            "Epoch 2/100\n",
            "8000/8000 [==============================] - 3s 401us/step - loss: 0.4291 - acc: 0.7960\n",
            "Epoch 3/100\n",
            "8000/8000 [==============================] - 3s 416us/step - loss: 0.4242 - acc: 0.7960\n",
            "Epoch 4/100\n",
            "8000/8000 [==============================] - 3s 418us/step - loss: 0.4204 - acc: 0.8126\n",
            "Epoch 5/100\n",
            "8000/8000 [==============================] - 3s 433us/step - loss: 0.4175 - acc: 0.8252\n",
            "Epoch 6/100\n",
            "8000/8000 [==============================] - 3s 432us/step - loss: 0.4156 - acc: 0.8262\n",
            "Epoch 7/100\n",
            "8000/8000 [==============================] - 3s 407us/step - loss: 0.4142 - acc: 0.8304\n",
            "Epoch 8/100\n",
            "8000/8000 [==============================] - 3s 429us/step - loss: 0.4126 - acc: 0.8320\n",
            "Epoch 9/100\n",
            "8000/8000 [==============================] - 3s 429us/step - loss: 0.4113 - acc: 0.8320\n",
            "Epoch 10/100\n",
            "8000/8000 [==============================] - 4s 444us/step - loss: 0.4101 - acc: 0.8337\n",
            "Epoch 11/100\n",
            "8000/8000 [==============================] - 3s 420us/step - loss: 0.4088 - acc: 0.8332\n",
            "Epoch 12/100\n",
            "8000/8000 [==============================] - 3s 434us/step - loss: 0.4079 - acc: 0.8356\n",
            "Epoch 13/100\n",
            "8000/8000 [==============================] - 3s 396us/step - loss: 0.4065 - acc: 0.8349\n",
            "Epoch 14/100\n",
            "8000/8000 [==============================] - 3s 396us/step - loss: 0.4066 - acc: 0.8351\n",
            "Epoch 15/100\n",
            "8000/8000 [==============================] - 3s 399us/step - loss: 0.4057 - acc: 0.8352\n",
            "Epoch 16/100\n",
            "8000/8000 [==============================] - 3s 396us/step - loss: 0.4053 - acc: 0.8341\n",
            "Epoch 17/100\n",
            "8000/8000 [==============================] - 3s 392us/step - loss: 0.4046 - acc: 0.8345\n",
            "Epoch 18/100\n",
            "8000/8000 [==============================] - 3s 400us/step - loss: 0.4041 - acc: 0.8354\n",
            "Epoch 19/100\n",
            "8000/8000 [==============================] - 3s 395us/step - loss: 0.4039 - acc: 0.8354\n",
            "Epoch 20/100\n",
            "8000/8000 [==============================] - 3s 348us/step - loss: 0.4035 - acc: 0.8341\n",
            "Epoch 21/100\n",
            "8000/8000 [==============================] - 3s 364us/step - loss: 0.4031 - acc: 0.8340\n",
            "Epoch 22/100\n",
            "8000/8000 [==============================] - 3s 393us/step - loss: 0.4031 - acc: 0.8322\n",
            "Epoch 23/100\n",
            "8000/8000 [==============================] - 3s 386us/step - loss: 0.4029 - acc: 0.8340\n",
            "Epoch 24/100\n",
            "8000/8000 [==============================] - 3s 387us/step - loss: 0.4027 - acc: 0.8335\n",
            "Epoch 25/100\n",
            "8000/8000 [==============================] - 3s 400us/step - loss: 0.4026 - acc: 0.8355\n",
            "Epoch 26/100\n",
            "8000/8000 [==============================] - 3s 372us/step - loss: 0.4027 - acc: 0.8357\n",
            "Epoch 27/100\n",
            "8000/8000 [==============================] - 3s 382us/step - loss: 0.4025 - acc: 0.8347\n",
            "Epoch 28/100\n",
            "8000/8000 [==============================] - 3s 384us/step - loss: 0.4022 - acc: 0.8354\n",
            "Epoch 29/100\n",
            "8000/8000 [==============================] - 3s 405us/step - loss: 0.4021 - acc: 0.8352\n",
            "Epoch 30/100\n",
            "8000/8000 [==============================] - 3s 405us/step - loss: 0.4018 - acc: 0.8360\n",
            "Epoch 31/100\n",
            "8000/8000 [==============================] - 3s 413us/step - loss: 0.4020 - acc: 0.8334\n",
            "Epoch 32/100\n",
            "8000/8000 [==============================] - 3s 379us/step - loss: 0.4019 - acc: 0.8342\n",
            "Epoch 33/100\n",
            "8000/8000 [==============================] - 3s 422us/step - loss: 0.4014 - acc: 0.8354\n",
            "Epoch 34/100\n",
            "8000/8000 [==============================] - 3s 418us/step - loss: 0.4018 - acc: 0.8344\n",
            "Epoch 35/100\n",
            "8000/8000 [==============================] - 3s 404us/step - loss: 0.4017 - acc: 0.8355\n",
            "Epoch 36/100\n",
            "8000/8000 [==============================] - 3s 406us/step - loss: 0.4012 - acc: 0.8326\n",
            "Epoch 37/100\n",
            "8000/8000 [==============================] - 3s 423us/step - loss: 0.4014 - acc: 0.8332\n",
            "Epoch 38/100\n",
            "8000/8000 [==============================] - 3s 408us/step - loss: 0.4015 - acc: 0.8356\n",
            "Epoch 39/100\n",
            "8000/8000 [==============================] - 3s 432us/step - loss: 0.4009 - acc: 0.8365\n",
            "Epoch 40/100\n",
            "8000/8000 [==============================] - 3s 368us/step - loss: 0.4015 - acc: 0.8351\n",
            "Epoch 41/100\n",
            "8000/8000 [==============================] - 3s 350us/step - loss: 0.4010 - acc: 0.8342\n",
            "Epoch 42/100\n",
            "8000/8000 [==============================] - 3s 362us/step - loss: 0.4009 - acc: 0.8345\n",
            "Epoch 43/100\n",
            "8000/8000 [==============================] - 3s 419us/step - loss: 0.4013 - acc: 0.8346\n",
            "Epoch 44/100\n",
            "8000/8000 [==============================] - 3s 400us/step - loss: 0.4008 - acc: 0.8357\n",
            "Epoch 45/100\n",
            "8000/8000 [==============================] - 3s 389us/step - loss: 0.4008 - acc: 0.8339\n",
            "Epoch 46/100\n",
            "8000/8000 [==============================] - 3s 343us/step - loss: 0.4012 - acc: 0.8344\n",
            "Epoch 47/100\n",
            "8000/8000 [==============================] - 3s 365us/step - loss: 0.4012 - acc: 0.8341\n",
            "Epoch 48/100\n",
            "8000/8000 [==============================] - 3s 401us/step - loss: 0.4009 - acc: 0.8350\n",
            "Epoch 49/100\n",
            "8000/8000 [==============================] - 3s 374us/step - loss: 0.4001 - acc: 0.8369\n",
            "Epoch 50/100\n",
            "8000/8000 [==============================] - 3s 386us/step - loss: 0.4007 - acc: 0.8352\n",
            "Epoch 51/100\n",
            "8000/8000 [==============================] - 3s 355us/step - loss: 0.4009 - acc: 0.8347\n",
            "Epoch 52/100\n",
            "8000/8000 [==============================] - 3s 365us/step - loss: 0.4007 - acc: 0.8331\n",
            "Epoch 53/100\n",
            "8000/8000 [==============================] - 3s 336us/step - loss: 0.4008 - acc: 0.8342\n",
            "Epoch 54/100\n",
            "8000/8000 [==============================] - 3s 351us/step - loss: 0.4005 - acc: 0.8351\n",
            "Epoch 55/100\n",
            "8000/8000 [==============================] - 3s 354us/step - loss: 0.4006 - acc: 0.8354\n",
            "Epoch 56/100\n",
            "8000/8000 [==============================] - 3s 376us/step - loss: 0.4006 - acc: 0.8342\n",
            "Epoch 57/100\n",
            "8000/8000 [==============================] - 3s 361us/step - loss: 0.4008 - acc: 0.8346\n",
            "Epoch 58/100\n",
            "8000/8000 [==============================] - 3s 368us/step - loss: 0.4005 - acc: 0.8337\n",
            "Epoch 59/100\n",
            "8000/8000 [==============================] - 3s 355us/step - loss: 0.4002 - acc: 0.8325\n",
            "Epoch 60/100\n",
            "8000/8000 [==============================] - 3s 373us/step - loss: 0.4004 - acc: 0.8324\n",
            "Epoch 61/100\n",
            "8000/8000 [==============================] - 3s 356us/step - loss: 0.4006 - acc: 0.8349\n",
            "Epoch 62/100\n",
            "8000/8000 [==============================] - 3s 389us/step - loss: 0.4008 - acc: 0.8365\n",
            "Epoch 63/100\n",
            "8000/8000 [==============================] - 3s 369us/step - loss: 0.4004 - acc: 0.8354\n",
            "Epoch 64/100\n",
            "8000/8000 [==============================] - 3s 374us/step - loss: 0.4006 - acc: 0.8346\n",
            "Epoch 65/100\n",
            "8000/8000 [==============================] - 3s 366us/step - loss: 0.4003 - acc: 0.8349\n",
            "Epoch 66/100\n",
            "8000/8000 [==============================] - 3s 349us/step - loss: 0.3996 - acc: 0.8342\n",
            "Epoch 67/100\n",
            "8000/8000 [==============================] - 3s 355us/step - loss: 0.4005 - acc: 0.8371\n",
            "Epoch 68/100\n",
            "8000/8000 [==============================] - 3s 385us/step - loss: 0.3996 - acc: 0.8344\n",
            "Epoch 69/100\n",
            "8000/8000 [==============================] - 3s 353us/step - loss: 0.4005 - acc: 0.8362\n",
            "Epoch 70/100\n",
            "8000/8000 [==============================] - 3s 375us/step - loss: 0.4004 - acc: 0.8359\n",
            "Epoch 71/100\n",
            "8000/8000 [==============================] - 3s 373us/step - loss: 0.4005 - acc: 0.8334\n",
            "Epoch 72/100\n",
            "8000/8000 [==============================] - 3s 381us/step - loss: 0.4003 - acc: 0.8354\n",
            "Epoch 73/100\n",
            "8000/8000 [==============================] - 3s 379us/step - loss: 0.4002 - acc: 0.8354\n",
            "Epoch 74/100\n",
            "8000/8000 [==============================] - 3s 366us/step - loss: 0.3999 - acc: 0.8359\n",
            "Epoch 75/100\n",
            "8000/8000 [==============================] - 3s 375us/step - loss: 0.4004 - acc: 0.8356\n",
            "Epoch 76/100\n",
            "8000/8000 [==============================] - 3s 376us/step - loss: 0.4003 - acc: 0.8355\n",
            "Epoch 77/100\n",
            "8000/8000 [==============================] - 3s 351us/step - loss: 0.4002 - acc: 0.8351\n",
            "Epoch 78/100\n",
            "8000/8000 [==============================] - 3s 357us/step - loss: 0.4006 - acc: 0.8341\n",
            "Epoch 79/100\n",
            "8000/8000 [==============================] - 3s 352us/step - loss: 0.3991 - acc: 0.8346\n",
            "Epoch 80/100\n",
            "8000/8000 [==============================] - 3s 354us/step - loss: 0.4004 - acc: 0.8346\n",
            "Epoch 81/100\n",
            "8000/8000 [==============================] - 3s 368us/step - loss: 0.4003 - acc: 0.8350\n",
            "Epoch 82/100\n",
            "8000/8000 [==============================] - 3s 332us/step - loss: 0.4001 - acc: 0.8346\n",
            "Epoch 83/100\n",
            "8000/8000 [==============================] - 3s 377us/step - loss: 0.4001 - acc: 0.8352\n",
            "Epoch 84/100\n",
            "8000/8000 [==============================] - 3s 365us/step - loss: 0.4002 - acc: 0.8357\n",
            "Epoch 85/100\n",
            "8000/8000 [==============================] - 3s 353us/step - loss: 0.3998 - acc: 0.8349\n",
            "Epoch 86/100\n",
            "8000/8000 [==============================] - 3s 340us/step - loss: 0.4004 - acc: 0.8366\n",
            "Epoch 87/100\n",
            "8000/8000 [==============================] - 3s 355us/step - loss: 0.4001 - acc: 0.8366\n",
            "Epoch 88/100\n",
            "8000/8000 [==============================] - 3s 359us/step - loss: 0.3997 - acc: 0.8357\n",
            "Epoch 89/100\n",
            "8000/8000 [==============================] - 3s 392us/step - loss: 0.3999 - acc: 0.8346\n",
            "Epoch 90/100\n",
            "8000/8000 [==============================] - 3s 365us/step - loss: 0.3995 - acc: 0.8347\n",
            "Epoch 91/100\n",
            "8000/8000 [==============================] - 3s 390us/step - loss: 0.4000 - acc: 0.8352\n",
            "Epoch 92/100\n",
            "8000/8000 [==============================] - 3s 360us/step - loss: 0.4002 - acc: 0.8357\n",
            "Epoch 93/100\n",
            "8000/8000 [==============================] - 3s 342us/step - loss: 0.3997 - acc: 0.8361\n",
            "Epoch 94/100\n",
            "8000/8000 [==============================] - 3s 357us/step - loss: 0.3998 - acc: 0.8351\n",
            "Epoch 95/100\n",
            "8000/8000 [==============================] - 3s 349us/step - loss: 0.3999 - acc: 0.8375\n",
            "Epoch 96/100\n",
            "8000/8000 [==============================] - 3s 348us/step - loss: 0.3998 - acc: 0.8349\n",
            "Epoch 97/100\n",
            "8000/8000 [==============================] - 3s 350us/step - loss: 0.3999 - acc: 0.8355\n",
            "Epoch 98/100\n",
            "8000/8000 [==============================] - 3s 342us/step - loss: 0.3999 - acc: 0.8359\n",
            "Epoch 99/100\n",
            "8000/8000 [==============================] - 3s 360us/step - loss: 0.3997 - acc: 0.8355\n",
            "Epoch 100/100\n",
            "8000/8000 [==============================] - 3s 348us/step - loss: 0.3996 - acc: 0.8365\n"
          ],
          "name": "stdout"
        },
        {
          "output_type": "execute_result",
          "data": {
            "text/plain": [
              "<keras.callbacks.History at 0x7fc200fb89e8>"
            ]
          },
          "metadata": {
            "tags": []
          },
          "execution_count": 28
        }
      ]
    },
    {
      "cell_type": "code",
      "metadata": {
        "id": "yrvMB0OggdQf",
        "colab_type": "code",
        "colab": {}
      },
      "source": [
        "y_pred = classifier.predict(X_test)"
      ],
      "execution_count": 0,
      "outputs": []
    },
    {
      "cell_type": "code",
      "metadata": {
        "id": "BTdwTUg1iRjo",
        "colab_type": "code",
        "outputId": "c398ed7c-dcc4-4e1d-8793-5fd780787dcf",
        "colab": {
          "base_uri": "https://localhost:8080/",
          "height": 238
        }
      },
      "source": [
        "X_test"
      ],
      "execution_count": 30,
      "outputs": [
        {
          "output_type": "execute_result",
          "data": {
            "text/plain": [
              "array([[ 1.62776996, -0.57427105, -0.56129438, ...,  0.66011376,\n",
              "         0.97628121,  1.62185911],\n",
              "       [-0.61433742, -0.57427105, -1.33847768, ...,  0.66011376,\n",
              "        -1.02429504,  0.504204  ],\n",
              "       [-0.61433742,  1.74133801,  0.58347561, ...,  0.66011376,\n",
              "         0.97628121, -0.41865644],\n",
              "       ...,\n",
              "       [-0.61433742,  1.74133801, -0.76084144, ...,  0.66011376,\n",
              "        -1.02429504,  0.72775202],\n",
              "       [ 1.62776996, -0.57427105, -0.0046631 , ...,  0.66011376,\n",
              "         0.97628121, -1.54162886],\n",
              "       [ 1.62776996, -0.57427105, -0.81335383, ...,  0.66011376,\n",
              "        -1.02429504,  1.62356528]])"
            ]
          },
          "metadata": {
            "tags": []
          },
          "execution_count": 30
        }
      ]
    },
    {
      "cell_type": "code",
      "metadata": {
        "id": "XXRMehaShmcI",
        "colab_type": "code",
        "outputId": "639fa531-8291-4b2d-b3c1-3dfb6410b773",
        "colab": {
          "base_uri": "https://localhost:8080/",
          "height": 136
        }
      },
      "source": [
        "y_pred"
      ],
      "execution_count": 31,
      "outputs": [
        {
          "output_type": "execute_result",
          "data": {
            "text/plain": [
              "array([[0.23028973],\n",
              "       [0.32763022],\n",
              "       [0.159444  ],\n",
              "       ...,\n",
              "       [0.22177336],\n",
              "       [0.19776177],\n",
              "       [0.13804919]], dtype=float32)"
            ]
          },
          "metadata": {
            "tags": []
          },
          "execution_count": 31
        }
      ]
    },
    {
      "cell_type": "code",
      "metadata": {
        "id": "sY4IGi7ihrUp",
        "colab_type": "code",
        "colab": {}
      },
      "source": [
        "y_pred = (y_pred > 0.5)"
      ],
      "execution_count": 0,
      "outputs": []
    },
    {
      "cell_type": "code",
      "metadata": {
        "id": "1FG0cnA_hxfG",
        "colab_type": "code",
        "outputId": "84337d76-92cd-44b1-bf52-7383ff71b741",
        "colab": {
          "base_uri": "https://localhost:8080/",
          "height": 136
        }
      },
      "source": [
        "(y_pred > 0.5)"
      ],
      "execution_count": 33,
      "outputs": [
        {
          "output_type": "execute_result",
          "data": {
            "text/plain": [
              "array([[False],\n",
              "       [False],\n",
              "       [False],\n",
              "       ...,\n",
              "       [False],\n",
              "       [False],\n",
              "       [False]])"
            ]
          },
          "metadata": {
            "tags": []
          },
          "execution_count": 33
        }
      ]
    },
    {
      "cell_type": "code",
      "metadata": {
        "id": "IW0F_9-yhyYE",
        "colab_type": "code",
        "colab": {
          "base_uri": "https://localhost:8080/",
          "height": 51
        },
        "outputId": "631e5a12-e3b2-4d34-9106-0abdfb391936"
      },
      "source": [
        "from sklearn.metrics import confusion_matrix\n",
        "cm = confusion_matrix(y_test, y_pred)\n",
        "cm"
      ],
      "execution_count": 34,
      "outputs": [
        {
          "output_type": "execute_result",
          "data": {
            "text/plain": [
              "array([[1536,   59],\n",
              "       [ 261,  144]])"
            ]
          },
          "metadata": {
            "tags": []
          },
          "execution_count": 34
        }
      ]
    },
    {
      "cell_type": "code",
      "metadata": {
        "id": "txW-ZNtyh-nA",
        "colab_type": "code",
        "outputId": "e4bedc01-6b30-4631-e0bf-b974a270bdd4",
        "colab": {
          "base_uri": "https://localhost:8080/",
          "height": 34
        }
      },
      "source": [
        "# Accuracy\n",
        "(1568+106)/(1568+27+299+106)"
      ],
      "execution_count": 35,
      "outputs": [
        {
          "output_type": "execute_result",
          "data": {
            "text/plain": [
              "0.837"
            ]
          },
          "metadata": {
            "tags": []
          },
          "execution_count": 35
        }
      ]
    },
    {
      "cell_type": "markdown",
      "metadata": {
        "id": "d_YRrY7-haWR",
        "colab_type": "text"
      },
      "source": [
        "# Improving the model"
      ]
    },
    {
      "cell_type": "markdown",
      "metadata": {
        "id": "3uYavFqPiCJY",
        "colab_type": "text"
      },
      "source": [
        "The model will have the variance problem if we only test with the test set. To solve this problem, we should introduce the k-fold cross validation."
      ]
    },
    {
      "cell_type": "markdown",
      "metadata": {
        "id": "ljn8fuQoik5j",
        "colab_type": "text"
      },
      "source": [
        " ![alt text](https://github.com/MarkIChen/Bank-Customer-Classification-Model/blob/master/img/Screen%20Shot%202020-02-07%20at%2010.47.18%20AM.png?raw=true)"
      ]
    },
    {
      "cell_type": "markdown",
      "metadata": {
        "id": "-mbJ8PGmjJOp",
        "colab_type": "text"
      },
      "source": [
        "## Import library"
      ]
    },
    {
      "cell_type": "code",
      "metadata": {
        "id": "O1Ia9bHryGs1",
        "colab_type": "code",
        "colab": {}
      },
      "source": [
        "from keras.wrappers.scikit_learn import KerasClassifier\n",
        "from sklearn.model_selection import cross_val_score"
      ],
      "execution_count": 0,
      "outputs": []
    },
    {
      "cell_type": "markdown",
      "metadata": {
        "id": "ZezJd6Fejm_b",
        "colab_type": "text"
      },
      "source": [
        "## define a classifier"
      ]
    },
    {
      "cell_type": "code",
      "metadata": {
        "id": "JovHgZbXjfSs",
        "colab_type": "code",
        "colab": {}
      },
      "source": [
        "def build_classifier():\n",
        "  classifier = Sequential()\n",
        "  # First layer\n",
        "  classifier.add(Dense(6, input_dim = 11, kernel_initializer = 'uniform', activation= 'relu'))\n",
        "  # Second layer\n",
        "  classifier.add(Dense(6, kernel_initializer='uniform', activation='relu'))\n",
        "  # output layer\n",
        "  classifier.add(Dense(1, kernel_initializer='uniform', activation='sigmoid'))\n",
        "  classifier.compile(optimizer='adam', loss='binary_crossentropy', metrics=['accuracy'])\n",
        "  return classifier"
      ],
      "execution_count": 0,
      "outputs": []
    },
    {
      "cell_type": "markdown",
      "metadata": {
        "id": "InY4rBqgj8Ri",
        "colab_type": "text"
      },
      "source": [
        "## Create a new classifier with the wrapper"
      ]
    },
    {
      "cell_type": "code",
      "metadata": {
        "id": "W2WNrmc8j5od",
        "colab_type": "code",
        "colab": {}
      },
      "source": [
        "classifier = KerasClassifier(build_fn=build_classifier,\n",
        "                             batch_size=10, nb_epoch=100)"
      ],
      "execution_count": 0,
      "outputs": []
    },
    {
      "cell_type": "code",
      "metadata": {
        "id": "kiwjRJwwkif3",
        "colab_type": "code",
        "colab": {
          "base_uri": "https://localhost:8080/",
          "height": 547
        },
        "outputId": "1e7716fe-2191-4d1c-fb28-1ab2b2386d92"
      },
      "source": [
        "accuracy = cross_val_score(estimator=classifier,\n",
        "                           X = X_train,\n",
        "                           y = y_train,\n",
        "                           cv = 10\n",
        "                           )"
      ],
      "execution_count": 39,
      "outputs": [
        {
          "output_type": "stream",
          "text": [
            "Epoch 1/1\n",
            "7200/7200 [==============================] - 3s 427us/step - loss: 0.4869 - acc: 0.7965\n",
            "800/800 [==============================] - 0s 198us/step\n",
            "Epoch 1/1\n",
            "7200/7200 [==============================] - 3s 424us/step - loss: 0.4818 - acc: 0.7961\n",
            "800/800 [==============================] - 0s 230us/step\n",
            "Epoch 1/1\n",
            "7200/7200 [==============================] - 3s 419us/step - loss: 0.4980 - acc: 0.7953\n",
            "800/800 [==============================] - 0s 242us/step\n",
            "Epoch 1/1\n",
            "7200/7200 [==============================] - 3s 444us/step - loss: 0.4799 - acc: 0.7975\n",
            "800/800 [==============================] - 0s 259us/step\n",
            "Epoch 1/1\n",
            "7200/7200 [==============================] - 3s 411us/step - loss: 0.4995 - acc: 0.7937\n",
            "800/800 [==============================] - 0s 298us/step\n",
            "Epoch 1/1\n",
            "7200/7200 [==============================] - 3s 441us/step - loss: 0.4967 - acc: 0.7936\n",
            "800/800 [==============================] - 0s 303us/step\n",
            "Epoch 1/1\n",
            "7200/7200 [==============================] - 3s 457us/step - loss: 0.6208 - acc: 0.7961\n",
            "800/800 [==============================] - 0s 342us/step\n",
            "Epoch 1/1\n",
            "7200/7200 [==============================] - 3s 457us/step - loss: 0.5008 - acc: 0.7957\n",
            "800/800 [==============================] - 0s 342us/step\n",
            "Epoch 1/1\n",
            "7200/7200 [==============================] - 3s 460us/step - loss: 0.4941 - acc: 0.7954\n",
            "800/800 [==============================] - 0s 457us/step\n",
            "Epoch 1/1\n",
            "7200/7200 [==============================] - 3s 482us/step - loss: 0.4941 - acc: 0.7956\n",
            "800/800 [==============================] - 0s 426us/step\n"
          ],
          "name": "stdout"
        }
      ]
    },
    {
      "cell_type": "code",
      "metadata": {
        "id": "XFDCJjNVljdJ",
        "colab_type": "code",
        "colab": {
          "base_uri": "https://localhost:8080/",
          "height": 51
        },
        "outputId": "ee0b446d-60e1-42c4-c5b4-a6052e6da6dd"
      },
      "source": [
        "accuracy"
      ],
      "execution_count": 40,
      "outputs": [
        {
          "output_type": "execute_result",
          "data": {
            "text/plain": [
              "array([0.78625   , 0.79      , 0.8       , 0.7825    , 0.81625   ,\n",
              "       0.81      , 0.7875    , 0.79375   , 0.79875   , 0.79624999])"
            ]
          },
          "metadata": {
            "tags": []
          },
          "execution_count": 40
        }
      ]
    },
    {
      "cell_type": "code",
      "metadata": {
        "id": "atQ6BOmXnFtT",
        "colab_type": "code",
        "colab": {
          "base_uri": "https://localhost:8080/",
          "height": 34
        },
        "outputId": "f43eaca9-76cd-47f8-dc52-6107c83e1fd8"
      },
      "source": [
        "variance = accuracy.std()\n",
        "mean_accuracy = accuracy.mean()\n",
        "(variance, mean_accuracy)"
      ],
      "execution_count": 41,
      "outputs": [
        {
          "output_type": "execute_result",
          "data": {
            "text/plain": [
              "(0.010100277584244735, 0.7961249969899655)"
            ]
          },
          "metadata": {
            "tags": []
          },
          "execution_count": 41
        }
      ]
    },
    {
      "cell_type": "markdown",
      "metadata": {
        "id": "J0ftivS1olCb",
        "colab_type": "text"
      },
      "source": [
        "## Implement Dropout"
      ]
    },
    {
      "cell_type": "markdown",
      "metadata": {
        "id": "_wSrfr7KotMH",
        "colab_type": "text"
      },
      "source": [
        "To prevent overfitting, we use deopout to avoid one neuron being overtraining.\""
      ]
    },
    {
      "cell_type": "code",
      "metadata": {
        "id": "ZWThkUY1osm-",
        "colab_type": "code",
        "colab": {}
      },
      "source": [
        "from keras.layers import Dropout"
      ],
      "execution_count": 0,
      "outputs": []
    },
    {
      "cell_type": "markdown",
      "metadata": {
        "id": "d1S1fCyTo_FC",
        "colab_type": "text"
      },
      "source": [
        "### Apply dropout to layers."
      ]
    },
    {
      "cell_type": "markdown",
      "metadata": {
        "id": "Tqy4OY8-pXWi",
        "colab_type": "text"
      },
      "source": [
        "Every epoch, there will be p percent of neurons being dropped."
      ]
    },
    {
      "cell_type": "code",
      "metadata": {
        "id": "bNulJqVQnv97",
        "colab_type": "code",
        "colab": {
          "base_uri": "https://localhost:8080/",
          "height": 190
        },
        "outputId": "0cfb9958-1fa4-4734-cf67-dcee18a02383"
      },
      "source": [
        "classifier = Sequential()\n",
        "# First layer\n",
        "classifier.add(Dense(6, input_dim = 11, kernel_initializer = 'uniform', activation= 'relu'))\n",
        "classifier.add(Dropout(p=0.1))\n",
        "# Second layer\n",
        "classifier.add(Dense(6, kernel_initializer='uniform', activation='relu'))\n",
        "classifier.add(Dropout(p=0.1))\n",
        "# output layer\n",
        "classifier.add(Dense(1, kernel_initializer='uniform', activation='sigmoid'))\n",
        "\n",
        "classifier.compile(optimizer='adam', loss='binary_crossentropy', metrics=['accuracy'])"
      ],
      "execution_count": 43,
      "outputs": [
        {
          "output_type": "stream",
          "text": [
            "WARNING:tensorflow:From /usr/local/lib/python3.6/dist-packages/keras/backend/tensorflow_backend.py:148: The name tf.placeholder_with_default is deprecated. Please use tf.compat.v1.placeholder_with_default instead.\n",
            "\n",
            "WARNING:tensorflow:From /usr/local/lib/python3.6/dist-packages/keras/backend/tensorflow_backend.py:3733: calling dropout (from tensorflow.python.ops.nn_ops) with keep_prob is deprecated and will be removed in a future version.\n",
            "Instructions for updating:\n",
            "Please use `rate` instead of `keep_prob`. Rate should be set to `rate = 1 - keep_prob`.\n"
          ],
          "name": "stdout"
        },
        {
          "output_type": "stream",
          "text": [
            "/usr/local/lib/python3.6/dist-packages/ipykernel_launcher.py:4: UserWarning: Update your `Dropout` call to the Keras 2 API: `Dropout(rate=0.1)`\n",
            "  after removing the cwd from sys.path.\n",
            "/usr/local/lib/python3.6/dist-packages/ipykernel_launcher.py:7: UserWarning: Update your `Dropout` call to the Keras 2 API: `Dropout(rate=0.1)`\n",
            "  import sys\n"
          ],
          "name": "stderr"
        }
      ]
    },
    {
      "cell_type": "code",
      "metadata": {
        "id": "DxzcZY3ip1uJ",
        "colab_type": "code",
        "colab": {
          "base_uri": "https://localhost:8080/",
          "height": 1000
        },
        "outputId": "ce4d36c6-2926-4b3e-d887-c2bf9896376f"
      },
      "source": [
        "classifier.fit(X_train, y_train, batch_size=10, epochs=100)"
      ],
      "execution_count": 44,
      "outputs": [
        {
          "output_type": "stream",
          "text": [
            "Epoch 1/100\n",
            "8000/8000 [==============================] - 4s 517us/step - loss: 0.4964 - acc: 0.7950\n",
            "Epoch 2/100\n",
            "8000/8000 [==============================] - 3s 396us/step - loss: 0.4371 - acc: 0.7960\n",
            "Epoch 3/100\n",
            "8000/8000 [==============================] - 3s 399us/step - loss: 0.4308 - acc: 0.7960\n",
            "Epoch 4/100\n",
            "8000/8000 [==============================] - 3s 425us/step - loss: 0.4308 - acc: 0.7960\n",
            "Epoch 5/100\n",
            "8000/8000 [==============================] - 3s 388us/step - loss: 0.4318 - acc: 0.7960\n",
            "Epoch 6/100\n",
            "8000/8000 [==============================] - 3s 378us/step - loss: 0.4292 - acc: 0.7960\n",
            "Epoch 7/100\n",
            "8000/8000 [==============================] - 3s 417us/step - loss: 0.4294 - acc: 0.8069\n",
            "Epoch 8/100\n",
            "8000/8000 [==============================] - 3s 406us/step - loss: 0.4293 - acc: 0.8214\n",
            "Epoch 9/100\n",
            "8000/8000 [==============================] - 3s 420us/step - loss: 0.4306 - acc: 0.8211\n",
            "Epoch 10/100\n",
            "8000/8000 [==============================] - 3s 410us/step - loss: 0.4274 - acc: 0.8244\n",
            "Epoch 11/100\n",
            "8000/8000 [==============================] - 3s 431us/step - loss: 0.4281 - acc: 0.8244\n",
            "Epoch 12/100\n",
            "8000/8000 [==============================] - 3s 418us/step - loss: 0.4291 - acc: 0.8264\n",
            "Epoch 13/100\n",
            "8000/8000 [==============================] - 3s 390us/step - loss: 0.4269 - acc: 0.8256\n",
            "Epoch 14/100\n",
            "8000/8000 [==============================] - 3s 394us/step - loss: 0.4279 - acc: 0.8267\n",
            "Epoch 15/100\n",
            "8000/8000 [==============================] - 3s 420us/step - loss: 0.4276 - acc: 0.8306\n",
            "Epoch 16/100\n",
            "8000/8000 [==============================] - 3s 389us/step - loss: 0.4260 - acc: 0.8270\n",
            "Epoch 17/100\n",
            "8000/8000 [==============================] - 3s 412us/step - loss: 0.4261 - acc: 0.8284\n",
            "Epoch 18/100\n",
            "8000/8000 [==============================] - 3s 418us/step - loss: 0.4247 - acc: 0.8277\n",
            "Epoch 19/100\n",
            "8000/8000 [==============================] - 3s 409us/step - loss: 0.4272 - acc: 0.8292\n",
            "Epoch 20/100\n",
            "8000/8000 [==============================] - 3s 428us/step - loss: 0.4266 - acc: 0.8275\n",
            "Epoch 21/100\n",
            "8000/8000 [==============================] - 3s 416us/step - loss: 0.4227 - acc: 0.8299\n",
            "Epoch 22/100\n",
            "8000/8000 [==============================] - 3s 393us/step - loss: 0.4226 - acc: 0.8314\n",
            "Epoch 23/100\n",
            "8000/8000 [==============================] - 3s 388us/step - loss: 0.4254 - acc: 0.8309\n",
            "Epoch 24/100\n",
            "8000/8000 [==============================] - 3s 376us/step - loss: 0.4248 - acc: 0.8307\n",
            "Epoch 25/100\n",
            "8000/8000 [==============================] - 3s 385us/step - loss: 0.4269 - acc: 0.8291\n",
            "Epoch 26/100\n",
            "8000/8000 [==============================] - 3s 383us/step - loss: 0.4297 - acc: 0.8291\n",
            "Epoch 27/100\n",
            "8000/8000 [==============================] - 3s 404us/step - loss: 0.4248 - acc: 0.8307\n",
            "Epoch 28/100\n",
            "8000/8000 [==============================] - 3s 418us/step - loss: 0.4265 - acc: 0.8284\n",
            "Epoch 29/100\n",
            "8000/8000 [==============================] - 3s 389us/step - loss: 0.4247 - acc: 0.8307\n",
            "Epoch 30/100\n",
            "8000/8000 [==============================] - 3s 389us/step - loss: 0.4269 - acc: 0.8317\n",
            "Epoch 31/100\n",
            "8000/8000 [==============================] - 3s 388us/step - loss: 0.4243 - acc: 0.8316\n",
            "Epoch 32/100\n",
            "8000/8000 [==============================] - 3s 391us/step - loss: 0.4255 - acc: 0.8309\n",
            "Epoch 33/100\n",
            "8000/8000 [==============================] - 3s 404us/step - loss: 0.4282 - acc: 0.8291\n",
            "Epoch 34/100\n",
            "8000/8000 [==============================] - 4s 443us/step - loss: 0.4261 - acc: 0.8301\n",
            "Epoch 35/100\n",
            "8000/8000 [==============================] - 3s 390us/step - loss: 0.4234 - acc: 0.8310\n",
            "Epoch 36/100\n",
            "8000/8000 [==============================] - 3s 426us/step - loss: 0.4269 - acc: 0.8297\n",
            "Epoch 37/100\n",
            "8000/8000 [==============================] - 3s 388us/step - loss: 0.4243 - acc: 0.8324\n",
            "Epoch 38/100\n",
            "8000/8000 [==============================] - 3s 402us/step - loss: 0.4270 - acc: 0.8322\n",
            "Epoch 39/100\n",
            "8000/8000 [==============================] - 3s 401us/step - loss: 0.4268 - acc: 0.8314\n",
            "Epoch 40/100\n",
            "8000/8000 [==============================] - 3s 394us/step - loss: 0.4267 - acc: 0.8291\n",
            "Epoch 41/100\n",
            "8000/8000 [==============================] - 3s 367us/step - loss: 0.4269 - acc: 0.8296\n",
            "Epoch 42/100\n",
            "8000/8000 [==============================] - 3s 373us/step - loss: 0.4253 - acc: 0.8296\n",
            "Epoch 43/100\n",
            "8000/8000 [==============================] - 3s 390us/step - loss: 0.4249 - acc: 0.8321\n",
            "Epoch 44/100\n",
            "8000/8000 [==============================] - 4s 441us/step - loss: 0.4239 - acc: 0.8334\n",
            "Epoch 45/100\n",
            "8000/8000 [==============================] - 3s 425us/step - loss: 0.4252 - acc: 0.8310\n",
            "Epoch 46/100\n",
            "8000/8000 [==============================] - 3s 436us/step - loss: 0.4245 - acc: 0.8326\n",
            "Epoch 47/100\n",
            "8000/8000 [==============================] - 3s 432us/step - loss: 0.4254 - acc: 0.8295\n",
            "Epoch 48/100\n",
            "8000/8000 [==============================] - 3s 403us/step - loss: 0.4257 - acc: 0.8350\n",
            "Epoch 49/100\n",
            "8000/8000 [==============================] - 3s 387us/step - loss: 0.4250 - acc: 0.8336\n",
            "Epoch 50/100\n",
            "8000/8000 [==============================] - 3s 392us/step - loss: 0.4276 - acc: 0.8312\n",
            "Epoch 51/100\n",
            "8000/8000 [==============================] - 3s 377us/step - loss: 0.4241 - acc: 0.8310\n",
            "Epoch 52/100\n",
            "8000/8000 [==============================] - 3s 402us/step - loss: 0.4245 - acc: 0.8316\n",
            "Epoch 53/100\n",
            "8000/8000 [==============================] - 3s 403us/step - loss: 0.4245 - acc: 0.8315\n",
            "Epoch 54/100\n",
            "8000/8000 [==============================] - 3s 406us/step - loss: 0.4238 - acc: 0.8312\n",
            "Epoch 55/100\n",
            "8000/8000 [==============================] - 3s 401us/step - loss: 0.4236 - acc: 0.8315\n",
            "Epoch 56/100\n",
            "8000/8000 [==============================] - 3s 375us/step - loss: 0.4218 - acc: 0.8327\n",
            "Epoch 57/100\n",
            "8000/8000 [==============================] - 3s 376us/step - loss: 0.4249 - acc: 0.8334\n",
            "Epoch 58/100\n",
            "8000/8000 [==============================] - 3s 412us/step - loss: 0.4234 - acc: 0.8317\n",
            "Epoch 59/100\n",
            "8000/8000 [==============================] - 3s 390us/step - loss: 0.4242 - acc: 0.8306\n",
            "Epoch 60/100\n",
            "8000/8000 [==============================] - 3s 399us/step - loss: 0.4225 - acc: 0.8349\n",
            "Epoch 61/100\n",
            "8000/8000 [==============================] - 3s 404us/step - loss: 0.4237 - acc: 0.8287\n",
            "Epoch 62/100\n",
            "8000/8000 [==============================] - 4s 438us/step - loss: 0.4260 - acc: 0.8311\n",
            "Epoch 63/100\n",
            "8000/8000 [==============================] - 3s 425us/step - loss: 0.4253 - acc: 0.8306\n",
            "Epoch 64/100\n",
            "8000/8000 [==============================] - 3s 425us/step - loss: 0.4256 - acc: 0.8309\n",
            "Epoch 65/100\n",
            "8000/8000 [==============================] - 4s 440us/step - loss: 0.4227 - acc: 0.8335\n",
            "Epoch 66/100\n",
            "8000/8000 [==============================] - 3s 393us/step - loss: 0.4249 - acc: 0.8300\n",
            "Epoch 67/100\n",
            "8000/8000 [==============================] - 3s 393us/step - loss: 0.4221 - acc: 0.8310\n",
            "Epoch 68/100\n",
            "8000/8000 [==============================] - 3s 407us/step - loss: 0.4258 - acc: 0.8301\n",
            "Epoch 69/100\n",
            "8000/8000 [==============================] - 3s 377us/step - loss: 0.4252 - acc: 0.8311\n",
            "Epoch 70/100\n",
            "8000/8000 [==============================] - 3s 391us/step - loss: 0.4210 - acc: 0.8336\n",
            "Epoch 71/100\n",
            "8000/8000 [==============================] - 3s 417us/step - loss: 0.4277 - acc: 0.8296\n",
            "Epoch 72/100\n",
            "8000/8000 [==============================] - 3s 381us/step - loss: 0.4245 - acc: 0.8329\n",
            "Epoch 73/100\n",
            "8000/8000 [==============================] - 3s 402us/step - loss: 0.4256 - acc: 0.8335\n",
            "Epoch 74/100\n",
            "8000/8000 [==============================] - 3s 404us/step - loss: 0.4245 - acc: 0.8334\n",
            "Epoch 75/100\n",
            "8000/8000 [==============================] - 3s 393us/step - loss: 0.4229 - acc: 0.8331\n",
            "Epoch 76/100\n",
            "8000/8000 [==============================] - 3s 360us/step - loss: 0.4225 - acc: 0.8329\n",
            "Epoch 77/100\n",
            "8000/8000 [==============================] - 3s 429us/step - loss: 0.4229 - acc: 0.8332\n",
            "Epoch 78/100\n",
            "8000/8000 [==============================] - 3s 399us/step - loss: 0.4238 - acc: 0.8324\n",
            "Epoch 79/100\n",
            "8000/8000 [==============================] - 3s 437us/step - loss: 0.4240 - acc: 0.8341\n",
            "Epoch 80/100\n",
            "8000/8000 [==============================] - 3s 425us/step - loss: 0.4229 - acc: 0.8344\n",
            "Epoch 81/100\n",
            "8000/8000 [==============================] - 3s 403us/step - loss: 0.4245 - acc: 0.8314\n",
            "Epoch 82/100\n",
            "8000/8000 [==============================] - 3s 404us/step - loss: 0.4212 - acc: 0.8326\n",
            "Epoch 83/100\n",
            "8000/8000 [==============================] - 3s 410us/step - loss: 0.4251 - acc: 0.8331\n",
            "Epoch 84/100\n",
            "8000/8000 [==============================] - 3s 407us/step - loss: 0.4188 - acc: 0.8349\n",
            "Epoch 85/100\n",
            "8000/8000 [==============================] - 3s 415us/step - loss: 0.4251 - acc: 0.8321\n",
            "Epoch 86/100\n",
            "8000/8000 [==============================] - 3s 375us/step - loss: 0.4225 - acc: 0.8325\n",
            "Epoch 87/100\n",
            "8000/8000 [==============================] - 3s 392us/step - loss: 0.4217 - acc: 0.8341\n",
            "Epoch 88/100\n",
            "8000/8000 [==============================] - 3s 403us/step - loss: 0.4240 - acc: 0.8330\n",
            "Epoch 89/100\n",
            "8000/8000 [==============================] - 3s 424us/step - loss: 0.4224 - acc: 0.8346\n",
            "Epoch 90/100\n",
            "8000/8000 [==============================] - 3s 422us/step - loss: 0.4218 - acc: 0.8322\n",
            "Epoch 91/100\n",
            "8000/8000 [==============================] - 3s 397us/step - loss: 0.4233 - acc: 0.8326\n",
            "Epoch 92/100\n",
            "8000/8000 [==============================] - 3s 409us/step - loss: 0.4239 - acc: 0.8310\n",
            "Epoch 93/100\n",
            "8000/8000 [==============================] - 3s 387us/step - loss: 0.4232 - acc: 0.8319\n",
            "Epoch 94/100\n",
            "8000/8000 [==============================] - 3s 401us/step - loss: 0.4207 - acc: 0.8331\n",
            "Epoch 95/100\n",
            "8000/8000 [==============================] - 3s 390us/step - loss: 0.4226 - acc: 0.8322\n",
            "Epoch 96/100\n",
            "8000/8000 [==============================] - 3s 382us/step - loss: 0.4224 - acc: 0.8309\n",
            "Epoch 97/100\n",
            "8000/8000 [==============================] - 3s 406us/step - loss: 0.4221 - acc: 0.8322\n",
            "Epoch 98/100\n",
            "8000/8000 [==============================] - 3s 414us/step - loss: 0.4217 - acc: 0.8332\n",
            "Epoch 99/100\n",
            "8000/8000 [==============================] - 3s 386us/step - loss: 0.4237 - acc: 0.8325\n",
            "Epoch 100/100\n",
            "8000/8000 [==============================] - 3s 410us/step - loss: 0.4222 - acc: 0.8320\n"
          ],
          "name": "stdout"
        },
        {
          "output_type": "execute_result",
          "data": {
            "text/plain": [
              "<keras.callbacks.History at 0x7fc19a587160>"
            ]
          },
          "metadata": {
            "tags": []
          },
          "execution_count": 44
        }
      ]
    },
    {
      "cell_type": "code",
      "metadata": {
        "id": "HCPnLyf0p2au",
        "colab_type": "code",
        "colab": {}
      },
      "source": [
        "y_pred = classifier.predict(X_test)"
      ],
      "execution_count": 0,
      "outputs": []
    },
    {
      "cell_type": "code",
      "metadata": {
        "id": "KaZRbHFNqF35",
        "colab_type": "code",
        "colab": {}
      },
      "source": [
        "y_pred = (y_pred > 0.5)"
      ],
      "execution_count": 0,
      "outputs": []
    },
    {
      "cell_type": "code",
      "metadata": {
        "id": "3Uc7ZyRdqGke",
        "colab_type": "code",
        "colab": {
          "base_uri": "https://localhost:8080/",
          "height": 51
        },
        "outputId": "602afbfc-3a4f-403c-bd44-aa4270ca8bf2"
      },
      "source": [
        "from sklearn.metrics import confusion_matrix\n",
        "cm = confusion_matrix(y_test, y_pred)\n",
        "cm"
      ],
      "execution_count": 47,
      "outputs": [
        {
          "output_type": "execute_result",
          "data": {
            "text/plain": [
              "array([[1565,   30],\n",
              "       [ 289,  116]])"
            ]
          },
          "metadata": {
            "tags": []
          },
          "execution_count": 47
        }
      ]
    },
    {
      "cell_type": "code",
      "metadata": {
        "id": "a0LHfORrqLZV",
        "colab_type": "code",
        "colab": {
          "base_uri": "https://localhost:8080/",
          "height": 34
        },
        "outputId": "821a36f8-801b-43df-cfcb-fb325ec44bd5"
      },
      "source": [
        "(1563+115)/(1563+115+32+290)"
      ],
      "execution_count": 48,
      "outputs": [
        {
          "output_type": "execute_result",
          "data": {
            "text/plain": [
              "0.839"
            ]
          },
          "metadata": {
            "tags": []
          },
          "execution_count": 48
        }
      ]
    },
    {
      "cell_type": "markdown",
      "metadata": {
        "id": "G9aSAuHtqoyb",
        "colab_type": "text"
      },
      "source": [
        "## Parameter Tuning"
      ]
    },
    {
      "cell_type": "markdown",
      "metadata": {
        "id": "F6KsfutMupu6",
        "colab_type": "text"
      },
      "source": [
        "Use different parameters to approach the best performace."
      ]
    },
    {
      "cell_type": "code",
      "metadata": {
        "id": "qTauZXbfqQh2",
        "colab_type": "code",
        "colab": {}
      },
      "source": [
        "from keras.wrappers.scikit_learn import KerasClassifier\n",
        "from sklearn.model_selection import GridSearchCV\n",
        "from keras.models import Sequential\n",
        "from keras.layers import Dense"
      ],
      "execution_count": 0,
      "outputs": []
    },
    {
      "cell_type": "code",
      "metadata": {
        "id": "yMQw1yc3vJLz",
        "colab_type": "code",
        "colab": {}
      },
      "source": [
        "def build_customized_classifier(optimizer):\n",
        "  classifier = Sequential()\n",
        "  # First layer\n",
        "  classifier.add(Dense(6, input_dim = 11, kernel_initializer = 'uniform', activation= 'relu'))\n",
        "  # Second layer\n",
        "  classifier.add(Dense(6, kernel_initializer='uniform', activation='relu'))\n",
        "  # output layer\n",
        "  classifier.add(Dense(1, kernel_initializer='uniform', activation='sigmoid'))\n",
        "  classifier.compile(optimizer= optimizer, loss='binary_crossentropy', metrics=['accuracy'])\n",
        "  return classifier"
      ],
      "execution_count": 0,
      "outputs": []
    },
    {
      "cell_type": "markdown",
      "metadata": {
        "id": "KMwocmOQvuTS",
        "colab_type": "text"
      },
      "source": [
        "### Create Classifier"
      ]
    },
    {
      "cell_type": "code",
      "metadata": {
        "id": "53qLb9Gzvin1",
        "colab_type": "code",
        "colab": {}
      },
      "source": [
        "classifier = KerasClassifier(build_fn= build_customized_classifier)"
      ],
      "execution_count": 0,
      "outputs": []
    },
    {
      "cell_type": "markdown",
      "metadata": {
        "id": "r7uXpiDrv0Ax",
        "colab_type": "text"
      },
      "source": [
        "### Create testing paramters"
      ]
    },
    {
      "cell_type": "code",
      "metadata": {
        "id": "1CFQG0jzvr0K",
        "colab_type": "code",
        "colab": {}
      },
      "source": [
        "parameters = {'batch_size': [5, 10, 20],\n",
        "              'nb_epoch': [30, 50, 70],\n",
        "              'optimizer': ['adam', 'rmsprop']}\n"
      ],
      "execution_count": 0,
      "outputs": []
    },
    {
      "cell_type": "markdown",
      "metadata": {
        "id": "580MHokTwUG-",
        "colab_type": "text"
      },
      "source": [
        "### Compile Classifier"
      ]
    },
    {
      "cell_type": "code",
      "metadata": {
        "id": "4TYc8X09wTiC",
        "colab_type": "code",
        "colab": {}
      },
      "source": [
        "grid_search = GridSearchCV(estimator= classifier,\n",
        "                           param_grid = parameters,\n",
        "                           scoring = 'accuracy',\n",
        "                           cv = 10)"
      ],
      "execution_count": 0,
      "outputs": []
    },
    {
      "cell_type": "code",
      "metadata": {
        "id": "c3kaD-7wwooA",
        "colab_type": "code",
        "colab": {
          "base_uri": "https://localhost:8080/",
          "height": 1000
        },
        "outputId": "fcebe6b4-2620-4a99-a6d6-0b6ac6448b6f"
      },
      "source": [
        "grid_search = grid_search.fit(X_train, y_train)"
      ],
      "execution_count": 57,
      "outputs": [
        {
          "output_type": "stream",
          "text": [
            "Epoch 1/1\n",
            "7200/7200 [==============================] - 7s 933us/step - loss: 0.4646 - acc: 0.7971\n",
            "Epoch 1/1\n",
            "7200/7200 [==============================] - 6s 858us/step - loss: 0.4648 - acc: 0.7964\n",
            "Epoch 1/1\n",
            "7200/7200 [==============================] - 6s 826us/step - loss: 0.4770 - acc: 0.7949\n",
            "Epoch 1/1\n",
            "7200/7200 [==============================] - 7s 924us/step - loss: 0.4635 - acc: 0.7975\n",
            "Epoch 1/1\n",
            "7200/7200 [==============================] - 7s 917us/step - loss: 0.4712 - acc: 0.7938\n",
            "Epoch 1/1\n",
            "7200/7200 [==============================] - 6s 886us/step - loss: 0.4633 - acc: 0.7943\n",
            "Epoch 1/1\n",
            "7200/7200 [==============================] - 7s 921us/step - loss: 0.4647 - acc: 0.7969\n",
            "Epoch 1/1\n",
            "7200/7200 [==============================] - 6s 881us/step - loss: 0.4629 - acc: 0.7964\n",
            "Epoch 1/1\n",
            "7200/7200 [==============================] - 7s 977us/step - loss: 0.4675 - acc: 0.7951\n",
            "Epoch 1/1\n",
            "7200/7200 [==============================] - 7s 923us/step - loss: 0.4677 - acc: 0.7960\n",
            "Epoch 1/1\n",
            "7200/7200 [==============================] - 6s 883us/step - loss: 0.4830 - acc: 0.7969\n",
            "Epoch 1/1\n",
            "7200/7200 [==============================] - 6s 835us/step - loss: 0.4770 - acc: 0.7967\n",
            "Epoch 1/1\n",
            "7200/7200 [==============================] - 6s 870us/step - loss: 0.4820 - acc: 0.7956\n",
            "Epoch 1/1\n",
            "7200/7200 [==============================] - 7s 906us/step - loss: 0.4891 - acc: 0.7974\n",
            "Epoch 1/1\n",
            "7200/7200 [==============================] - 6s 834us/step - loss: 0.4850 - acc: 0.7932\n",
            "Epoch 1/1\n",
            "7200/7200 [==============================] - 7s 917us/step - loss: 0.4721 - acc: 0.7943\n",
            "Epoch 1/1\n",
            "7200/7200 [==============================] - 6s 888us/step - loss: 0.4758 - acc: 0.7968\n",
            "Epoch 1/1\n",
            "7200/7200 [==============================] - 7s 909us/step - loss: 0.4966 - acc: 0.7956\n",
            "Epoch 1/1\n",
            "7200/7200 [==============================] - 6s 885us/step - loss: 0.4720 - acc: 0.7957\n",
            "Epoch 1/1\n",
            "7200/7200 [==============================] - 7s 945us/step - loss: 0.5010 - acc: 0.7958\n",
            "Epoch 1/1\n",
            "7200/7200 [==============================] - 7s 1ms/step - loss: 0.4670 - acc: 0.7968\n",
            "Epoch 1/1\n",
            "7200/7200 [==============================] - 7s 1ms/step - loss: 0.4636 - acc: 0.7964\n",
            "Epoch 1/1\n",
            "7200/7200 [==============================] - 7s 992us/step - loss: 0.4760 - acc: 0.7954\n",
            "Epoch 1/1\n",
            "7200/7200 [==============================] - 7s 1ms/step - loss: 0.4653 - acc: 0.7972\n",
            "Epoch 1/1\n",
            "7200/7200 [==============================] - 8s 1ms/step - loss: 0.4716 - acc: 0.7933\n",
            "Epoch 1/1\n",
            "7200/7200 [==============================] - 8s 1ms/step - loss: 0.4621 - acc: 0.8001\n",
            "Epoch 1/1\n",
            "7200/7200 [==============================] - 8s 1ms/step - loss: 0.4659 - acc: 0.7969\n",
            "Epoch 1/1\n",
            "7200/7200 [==============================] - 8s 1ms/step - loss: 0.4620 - acc: 0.7963\n",
            "Epoch 1/1\n",
            "7200/7200 [==============================] - 8s 1ms/step - loss: 0.4620 - acc: 0.7954\n",
            "Epoch 1/1\n",
            "7200/7200 [==============================] - 8s 1ms/step - loss: 0.4706 - acc: 0.7960\n",
            "Epoch 1/1\n",
            "7200/7200 [==============================] - 8s 1ms/step - loss: 0.4774 - acc: 0.7964\n",
            "Epoch 1/1\n",
            "7200/7200 [==============================] - 8s 1ms/step - loss: 0.4706 - acc: 0.7967\n",
            "Epoch 1/1\n",
            "7200/7200 [==============================] - 8s 1ms/step - loss: 0.4772 - acc: 0.7949\n",
            "Epoch 1/1\n",
            "7200/7200 [==============================] - 8s 1ms/step - loss: 0.4785 - acc: 0.7971\n",
            "Epoch 1/1\n",
            "7200/7200 [==============================] - 8s 1ms/step - loss: 0.4854 - acc: 0.7938\n",
            "Epoch 1/1\n",
            "7200/7200 [==============================] - 8s 1ms/step - loss: 0.4826 - acc: 0.7942\n",
            "Epoch 1/1\n",
            "7200/7200 [==============================] - 8s 1ms/step - loss: 0.4833 - acc: 0.7968\n",
            "Epoch 1/1\n",
            "7200/7200 [==============================] - 9s 1ms/step - loss: 0.4790 - acc: 0.7958\n",
            "Epoch 1/1\n",
            "7200/7200 [==============================] - 8s 1ms/step - loss: 0.4852 - acc: 0.7957\n",
            "Epoch 1/1\n",
            "7200/7200 [==============================] - 8s 1ms/step - loss: 0.4737 - acc: 0.7961\n",
            "Epoch 1/1\n",
            "7200/7200 [==============================] - 10s 1ms/step - loss: 0.4667 - acc: 0.7968\n",
            "Epoch 1/1\n",
            "7200/7200 [==============================] - 9s 1ms/step - loss: 0.4676 - acc: 0.7965\n",
            "Epoch 1/1\n",
            "7200/7200 [==============================] - 10s 1ms/step - loss: 0.4608 - acc: 0.7954\n",
            "Epoch 1/1\n",
            "7200/7200 [==============================] - 9s 1ms/step - loss: 0.4665 - acc: 0.7976\n",
            "Epoch 1/1\n",
            "7200/7200 [==============================] - 9s 1ms/step - loss: 0.4789 - acc: 0.7929\n",
            "Epoch 1/1\n",
            "7200/7200 [==============================] - 9s 1ms/step - loss: 0.4710 - acc: 0.7942\n",
            "Epoch 1/1\n",
            "7200/7200 [==============================] - 10s 1ms/step - loss: 0.4653 - acc: 0.7969\n",
            "Epoch 1/1\n",
            "7200/7200 [==============================] - 10s 1ms/step - loss: 0.4648 - acc: 0.7951\n",
            "Epoch 1/1\n",
            "7200/7200 [==============================] - 10s 1ms/step - loss: 0.4647 - acc: 0.7950\n",
            "Epoch 1/1\n",
            "7200/7200 [==============================] - 9s 1ms/step - loss: 0.4648 - acc: 0.7957\n",
            "Epoch 1/1\n",
            "7200/7200 [==============================] - 9s 1ms/step - loss: 0.4874 - acc: 0.7965\n",
            "Epoch 1/1\n",
            "7200/7200 [==============================] - 9s 1ms/step - loss: 0.4749 - acc: 0.7965\n",
            "Epoch 1/1\n",
            "7200/7200 [==============================] - 9s 1ms/step - loss: 0.4795 - acc: 0.7956\n",
            "Epoch 1/1\n",
            "7200/7200 [==============================] - 10s 1ms/step - loss: 0.4951 - acc: 0.7968\n",
            "Epoch 1/1\n",
            "7200/7200 [==============================] - 9s 1ms/step - loss: 0.4765 - acc: 0.7938\n",
            "Epoch 1/1\n",
            "7200/7200 [==============================] - 10s 1ms/step - loss: 0.4896 - acc: 0.7942\n",
            "Epoch 1/1\n",
            "7200/7200 [==============================] - 10s 1ms/step - loss: 0.4793 - acc: 0.7963\n",
            "Epoch 1/1\n",
            "7200/7200 [==============================] - 10s 1ms/step - loss: 0.4750 - acc: 0.7963\n",
            "Epoch 1/1\n",
            "7200/7200 [==============================] - 10s 1ms/step - loss: 0.4892 - acc: 0.7951\n",
            "Epoch 1/1\n",
            "7200/7200 [==============================] - 10s 1ms/step - loss: 0.4780 - acc: 0.7958\n",
            "Epoch 1/1\n",
            "7200/7200 [==============================] - 7s 996us/step - loss: 0.4985 - acc: 0.7971\n",
            "Epoch 1/1\n",
            "7200/7200 [==============================] - 7s 1ms/step - loss: 0.4892 - acc: 0.7969\n",
            "Epoch 1/1\n",
            "7200/7200 [==============================] - 8s 1ms/step - loss: 0.4907 - acc: 0.7953\n",
            "Epoch 1/1\n",
            "7200/7200 [==============================] - 7s 979us/step - loss: 0.4843 - acc: 0.7971\n",
            "Epoch 1/1\n",
            "7200/7200 [==============================] - 8s 1ms/step - loss: 0.5151 - acc: 0.7933\n",
            "Epoch 1/1\n",
            "7200/7200 [==============================] - 8s 1ms/step - loss: 0.5108 - acc: 0.7936\n",
            "Epoch 1/1\n",
            "7200/7200 [==============================] - 7s 1ms/step - loss: 0.4834 - acc: 0.7969\n",
            "Epoch 1/1\n",
            "7200/7200 [==============================] - 8s 1ms/step - loss: 0.5007 - acc: 0.7951\n",
            "Epoch 1/1\n",
            "7200/7200 [==============================] - 8s 1ms/step - loss: 0.4856 - acc: 0.7956\n",
            "Epoch 1/1\n",
            "7200/7200 [==============================] - 9s 1ms/step - loss: 0.4969 - acc: 0.7947\n",
            "Epoch 1/1\n",
            "7200/7200 [==============================] - 8s 1ms/step - loss: 0.5277 - acc: 0.7964\n",
            "Epoch 1/1\n",
            "7200/7200 [==============================] - 8s 1ms/step - loss: 0.5093 - acc: 0.7965\n",
            "Epoch 1/1\n",
            "7200/7200 [==============================] - 8s 1ms/step - loss: 0.5107 - acc: 0.7954\n",
            "Epoch 1/1\n",
            "7200/7200 [==============================] - 8s 1ms/step - loss: 0.4989 - acc: 0.7974\n",
            "Epoch 1/1\n",
            "7200/7200 [==============================] - 8s 1ms/step - loss: 0.6143 - acc: 0.7929\n",
            "Epoch 1/1\n",
            "7200/7200 [==============================] - 8s 1ms/step - loss: 0.4986 - acc: 0.7943\n",
            "Epoch 1/1\n",
            "7200/7200 [==============================] - 8s 1ms/step - loss: 0.5045 - acc: 0.7958\n",
            "Epoch 1/1\n",
            "7200/7200 [==============================] - 9s 1ms/step - loss: 0.4962 - acc: 0.7961\n",
            "Epoch 1/1\n",
            "7200/7200 [==============================] - 8s 1ms/step - loss: 0.5227 - acc: 0.7951\n",
            "Epoch 1/1\n",
            "7200/7200 [==============================] - 9s 1ms/step - loss: 0.5070 - acc: 0.7958\n",
            "Epoch 1/1\n",
            "7200/7200 [==============================] - 9s 1ms/step - loss: 0.4945 - acc: 0.7969\n",
            "Epoch 1/1\n",
            "7200/7200 [==============================] - 9s 1ms/step - loss: 0.4901 - acc: 0.7964\n",
            "Epoch 1/1\n",
            "7200/7200 [==============================] - 9s 1ms/step - loss: 0.4975 - acc: 0.7949\n",
            "Epoch 1/1\n",
            "7200/7200 [==============================] - 9s 1ms/step - loss: 0.4877 - acc: 0.7974\n",
            "Epoch 1/1\n",
            "7200/7200 [==============================] - 10s 1ms/step - loss: 0.4967 - acc: 0.7928\n",
            "Epoch 1/1\n",
            "7200/7200 [==============================] - 9s 1ms/step - loss: 0.4997 - acc: 0.7939\n",
            "Epoch 1/1\n",
            "7200/7200 [==============================] - 9s 1ms/step - loss: 0.4927 - acc: 0.7964\n",
            "Epoch 1/1\n",
            "7200/7200 [==============================] - 10s 1ms/step - loss: 0.4821 - acc: 0.7965\n",
            "Epoch 1/1\n",
            "7200/7200 [==============================] - 10s 1ms/step - loss: 0.5512 - acc: 0.7951\n",
            "Epoch 1/1\n",
            "7200/7200 [==============================] - 10s 1ms/step - loss: 0.4999 - acc: 0.7958\n",
            "Epoch 1/1\n",
            "7200/7200 [==============================] - 10s 1ms/step - loss: 0.5139 - acc: 0.7960\n",
            "Epoch 1/1\n",
            "7200/7200 [==============================] - 10s 1ms/step - loss: 0.4989 - acc: 0.7965\n",
            "Epoch 1/1\n",
            "7200/7200 [==============================] - 10s 1ms/step - loss: 0.5078 - acc: 0.7951\n",
            "Epoch 1/1\n",
            "7200/7200 [==============================] - 10s 1ms/step - loss: 0.5104 - acc: 0.7974\n",
            "Epoch 1/1\n",
            "7200/7200 [==============================] - 9s 1ms/step - loss: 0.5158 - acc: 0.7935\n",
            "Epoch 1/1\n",
            "7200/7200 [==============================] - 10s 1ms/step - loss: 0.5037 - acc: 0.7933\n",
            "Epoch 1/1\n",
            "7200/7200 [==============================] - 9s 1ms/step - loss: 0.5050 - acc: 0.7968\n",
            "Epoch 1/1\n",
            "7200/7200 [==============================] - 9s 1ms/step - loss: 0.5047 - acc: 0.7960\n",
            "Epoch 1/1\n",
            "7200/7200 [==============================] - 10s 1ms/step - loss: 0.5049 - acc: 0.7949\n",
            "Epoch 1/1\n",
            "7200/7200 [==============================] - 10s 1ms/step - loss: 0.5104 - acc: 0.7958\n",
            "Epoch 1/1\n",
            "7200/7200 [==============================] - 10s 1ms/step - loss: 0.4887 - acc: 0.7967\n",
            "Epoch 1/1\n",
            "7200/7200 [==============================] - 10s 1ms/step - loss: 0.4824 - acc: 0.7967\n",
            "Epoch 1/1\n",
            "7200/7200 [==============================] - 10s 1ms/step - loss: 0.4897 - acc: 0.7957\n",
            "Epoch 1/1\n",
            "7200/7200 [==============================] - 10s 1ms/step - loss: 0.4964 - acc: 0.7961\n",
            "Epoch 1/1\n",
            "7200/7200 [==============================] - 10s 1ms/step - loss: 0.4999 - acc: 0.7931\n",
            "Epoch 1/1\n",
            "7200/7200 [==============================] - 10s 1ms/step - loss: 0.5136 - acc: 0.7947\n",
            "Epoch 1/1\n",
            "7200/7200 [==============================] - 11s 1ms/step - loss: 0.4841 - acc: 0.7969\n",
            "Epoch 1/1\n",
            "7200/7200 [==============================] - 11s 1ms/step - loss: 0.4838 - acc: 0.7962\n",
            "Epoch 1/1\n",
            "7200/7200 [==============================] - 11s 1ms/step - loss: 0.4940 - acc: 0.7947\n",
            "Epoch 1/1\n",
            "7200/7200 [==============================] - 11s 1ms/step - loss: 0.4972 - acc: 0.7956\n",
            "Epoch 1/1\n",
            "7200/7200 [==============================] - 10s 1ms/step - loss: 0.5236 - acc: 0.7967\n",
            "Epoch 1/1\n",
            "7200/7200 [==============================] - 11s 1ms/step - loss: 0.5062 - acc: 0.7964\n",
            "Epoch 1/1\n",
            "7200/7200 [==============================] - 11s 1ms/step - loss: 0.5216 - acc: 0.7949\n",
            "Epoch 1/1\n",
            "7200/7200 [==============================] - 11s 1ms/step - loss: 0.5000 - acc: 0.7975\n",
            "Epoch 1/1\n",
            "7200/7200 [==============================] - 11s 1ms/step - loss: 0.5237 - acc: 0.7932\n",
            "Epoch 1/1\n",
            "7200/7200 [==============================] - 11s 1ms/step - loss: 0.5021 - acc: 0.7937\n",
            "Epoch 1/1\n",
            "7200/7200 [==============================] - 11s 2ms/step - loss: 0.5062 - acc: 0.7964\n",
            "Epoch 1/1\n",
            "7200/7200 [==============================] - 11s 1ms/step - loss: 0.4961 - acc: 0.7962\n",
            "Epoch 1/1\n",
            "7200/7200 [==============================] - 11s 2ms/step - loss: 0.5014 - acc: 0.7950\n",
            "Epoch 1/1\n",
            "7200/7200 [==============================] - 11s 2ms/step - loss: 0.5329 - acc: 0.7951\n",
            "Epoch 1/1\n",
            "7200/7200 [==============================] - 9s 1ms/step - loss: 0.5316 - acc: 0.7963\n",
            "Epoch 1/1\n",
            "7200/7200 [==============================] - 9s 1ms/step - loss: 0.5557 - acc: 0.7960\n",
            "Epoch 1/1\n",
            "7200/7200 [==============================] - 9s 1ms/step - loss: 0.5461 - acc: 0.7947\n",
            "Epoch 1/1\n",
            "7200/7200 [==============================] - 9s 1ms/step - loss: 0.5516 - acc: 0.7961\n",
            "Epoch 1/1\n",
            "7200/7200 [==============================] - 10s 1ms/step - loss: 0.5568 - acc: 0.7929\n",
            "Epoch 1/1\n",
            "7200/7200 [==============================] - 10s 1ms/step - loss: 0.5796 - acc: 0.7939\n",
            "Epoch 1/1\n",
            "7200/7200 [==============================] - 10s 1ms/step - loss: 0.5345 - acc: 0.7965\n",
            "Epoch 1/1\n",
            "7200/7200 [==============================] - 10s 1ms/step - loss: 0.5380 - acc: 0.7963\n",
            "Epoch 1/1\n",
            "7200/7200 [==============================] - 10s 1ms/step - loss: 0.5378 - acc: 0.7951\n",
            "Epoch 1/1\n",
            "7200/7200 [==============================] - 10s 1ms/step - loss: 0.5516 - acc: 0.7950\n",
            "Epoch 1/1\n",
            "7200/7200 [==============================] - 10s 1ms/step - loss: 0.5562 - acc: 0.7965\n",
            "Epoch 1/1\n",
            "7200/7200 [==============================] - 10s 1ms/step - loss: 0.5445 - acc: 0.7957\n",
            "Epoch 1/1\n",
            "7200/7200 [==============================] - 10s 1ms/step - loss: 0.5610 - acc: 0.7953\n",
            "Epoch 1/1\n",
            "7200/7200 [==============================] - 10s 1ms/step - loss: 0.5453 - acc: 0.7964\n",
            "Epoch 1/1\n",
            "7200/7200 [==============================] - 10s 1ms/step - loss: 0.6073 - acc: 0.7921\n",
            "Epoch 1/1\n",
            "7200/7200 [==============================] - 10s 1ms/step - loss: 0.5586 - acc: 0.7936\n",
            "Epoch 1/1\n",
            "7200/7200 [==============================] - 10s 1ms/step - loss: 0.5606 - acc: 0.7949\n",
            "Epoch 1/1\n",
            "7200/7200 [==============================] - 10s 1ms/step - loss: 0.6041 - acc: 0.7940\n",
            "Epoch 1/1\n",
            "7200/7200 [==============================] - 10s 1ms/step - loss: 0.5442 - acc: 0.7950\n",
            "Epoch 1/1\n",
            "7200/7200 [==============================] - 10s 1ms/step - loss: 0.5712 - acc: 0.7947\n",
            "Epoch 1/1\n",
            "7200/7200 [==============================] - 10s 1ms/step - loss: 0.5483 - acc: 0.7960\n",
            "Epoch 1/1\n",
            "7200/7200 [==============================] - 11s 1ms/step - loss: 0.5377 - acc: 0.7964\n",
            "Epoch 1/1\n",
            "7200/7200 [==============================] - 11s 1ms/step - loss: 0.5477 - acc: 0.7944\n",
            "Epoch 1/1\n",
            "7200/7200 [==============================] - 11s 2ms/step - loss: 0.5574 - acc: 0.7953\n",
            "Epoch 1/1\n",
            "7200/7200 [==============================] - 11s 2ms/step - loss: 0.5771 - acc: 0.7924\n",
            "Epoch 1/1\n",
            "7200/7200 [==============================] - 11s 2ms/step - loss: 0.5497 - acc: 0.7928\n",
            "Epoch 1/1\n",
            "7200/7200 [==============================] - 11s 2ms/step - loss: 0.5310 - acc: 0.7963\n",
            "Epoch 1/1\n",
            "7200/7200 [==============================] - 11s 2ms/step - loss: 0.5369 - acc: 0.7963\n",
            "Epoch 1/1\n",
            "7200/7200 [==============================] - 11s 2ms/step - loss: 0.5380 - acc: 0.7946\n",
            "Epoch 1/1\n",
            "7200/7200 [==============================] - 11s 2ms/step - loss: 0.5292 - acc: 0.7960\n",
            "Epoch 1/1\n",
            "7200/7200 [==============================] - 11s 2ms/step - loss: 0.5382 - acc: 0.7971\n",
            "Epoch 1/1\n",
            "7200/7200 [==============================] - 11s 2ms/step - loss: 0.5518 - acc: 0.7950\n",
            "Epoch 1/1\n",
            "7200/7200 [==============================] - 11s 2ms/step - loss: 0.5851 - acc: 0.7942\n",
            "Epoch 1/1\n",
            "7200/7200 [==============================] - 11s 2ms/step - loss: 0.5641 - acc: 0.7963\n",
            "Epoch 1/1\n",
            "7200/7200 [==============================] - 11s 2ms/step - loss: 0.5458 - acc: 0.7938\n",
            "Epoch 1/1\n",
            "7200/7200 [==============================] - 11s 2ms/step - loss: 0.5909 - acc: 0.7929\n",
            "Epoch 1/1\n",
            "7200/7200 [==============================] - 11s 2ms/step - loss: 0.5505 - acc: 0.7974\n",
            "Epoch 1/1\n",
            "7200/7200 [==============================] - 11s 2ms/step - loss: 0.5485 - acc: 0.7963\n",
            "Epoch 1/1\n",
            "7200/7200 [==============================] - 11s 2ms/step - loss: 0.5344 - acc: 0.7957\n",
            "Epoch 1/1\n",
            "7200/7200 [==============================] - 11s 2ms/step - loss: 0.5569 - acc: 0.7957\n",
            "Epoch 1/1\n",
            "7200/7200 [==============================] - 12s 2ms/step - loss: 0.5355 - acc: 0.7971\n",
            "Epoch 1/1\n",
            "7200/7200 [==============================] - 12s 2ms/step - loss: 0.5389 - acc: 0.7967\n",
            "Epoch 1/1\n",
            "7200/7200 [==============================] - 12s 2ms/step - loss: 0.5508 - acc: 0.7940\n",
            "Epoch 1/1\n",
            "7200/7200 [==============================] - 12s 2ms/step - loss: 0.5564 - acc: 0.7957\n",
            "Epoch 1/1\n",
            "7200/7200 [==============================] - 12s 2ms/step - loss: 0.5254 - acc: 0.7936\n",
            "Epoch 1/1\n",
            "7200/7200 [==============================] - 12s 2ms/step - loss: 0.5751 - acc: 0.7928\n",
            "Epoch 1/1\n",
            "7200/7200 [==============================] - 12s 2ms/step - loss: 0.6496 - acc: 0.7954\n",
            "Epoch 1/1\n",
            "7200/7200 [==============================] - 12s 2ms/step - loss: 0.5577 - acc: 0.7946\n",
            "Epoch 1/1\n",
            "7200/7200 [==============================] - 12s 2ms/step - loss: 0.6488 - acc: 0.7943\n",
            "Epoch 1/1\n",
            "7200/7200 [==============================] - 13s 2ms/step - loss: 0.5507 - acc: 0.7951\n",
            "Epoch 1/1\n",
            "7200/7200 [==============================] - 12s 2ms/step - loss: 0.5423 - acc: 0.7969\n",
            "Epoch 1/1\n",
            "7200/7200 [==============================] - 12s 2ms/step - loss: 0.5633 - acc: 0.7965\n",
            "Epoch 1/1\n",
            "7200/7200 [==============================] - 12s 2ms/step - loss: 0.5598 - acc: 0.7943\n",
            "Epoch 1/1\n",
            "7200/7200 [==============================] - 12s 2ms/step - loss: 0.5349 - acc: 0.7975\n",
            "Epoch 1/1\n",
            "7200/7200 [==============================] - 12s 2ms/step - loss: 0.5529 - acc: 0.7942\n",
            "Epoch 1/1\n",
            "7200/7200 [==============================] - 12s 2ms/step - loss: 0.5656 - acc: 0.7936\n",
            "Epoch 1/1\n",
            "7200/7200 [==============================] - 12s 2ms/step - loss: 0.5639 - acc: 0.7963\n",
            "Epoch 1/1\n",
            "7200/7200 [==============================] - 12s 2ms/step - loss: 0.5622 - acc: 0.7944\n",
            "Epoch 1/1\n",
            "7200/7200 [==============================] - 12s 2ms/step - loss: 0.5520 - acc: 0.7957\n",
            "Epoch 1/1\n",
            "7200/7200 [==============================] - 12s 2ms/step - loss: 0.5496 - acc: 0.7958\n",
            "Epoch 1/1\n",
            "8000/8000 [==============================] - 20s 3ms/step - loss: 0.4737 - acc: 0.7956\n"
          ],
          "name": "stdout"
        }
      ]
    },
    {
      "cell_type": "code",
      "metadata": {
        "id": "OQDugdrBwyBu",
        "colab_type": "code",
        "colab": {}
      },
      "source": [
        "best_parameter = grid_search.best_params_\n",
        "best_accuracy = grid_search.best_score_"
      ],
      "execution_count": 0,
      "outputs": []
    },
    {
      "cell_type": "code",
      "metadata": {
        "id": "DGx0mLho3wxo",
        "colab_type": "code",
        "colab": {
          "base_uri": "https://localhost:8080/",
          "height": 34
        },
        "outputId": "457be8d6-ffe6-47da-c48c-7d40a7eac2a4"
      },
      "source": [
        "best_parameter"
      ],
      "execution_count": 59,
      "outputs": [
        {
          "output_type": "execute_result",
          "data": {
            "text/plain": [
              "{'batch_size': 5, 'nb_epoch': 50, 'optimizer': 'adam'}"
            ]
          },
          "metadata": {
            "tags": []
          },
          "execution_count": 59
        }
      ]
    },
    {
      "cell_type": "code",
      "metadata": {
        "id": "qB2cx6LH3yHI",
        "colab_type": "code",
        "colab": {
          "base_uri": "https://localhost:8080/",
          "height": 34
        },
        "outputId": "572edf1c-db2e-4df0-b4a9-62fb4ab818d7"
      },
      "source": [
        "best_accuracy"
      ],
      "execution_count": 60,
      "outputs": [
        {
          "output_type": "execute_result",
          "data": {
            "text/plain": [
              "0.797875"
            ]
          },
          "metadata": {
            "tags": []
          },
          "execution_count": 60
        }
      ]
    },
    {
      "cell_type": "code",
      "metadata": {
        "id": "T64SZHasJBLS",
        "colab_type": "code",
        "colab": {}
      },
      "source": [
        ""
      ],
      "execution_count": 0,
      "outputs": []
    }
  ]
}