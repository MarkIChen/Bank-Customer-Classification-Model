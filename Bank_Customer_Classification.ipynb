{
  "nbformat": 4,
  "nbformat_minor": 0,
  "metadata": {
    "colab": {
      "name": "Bank-Customer-Classification.ipynb",
      "provenance": [],
      "collapsed_sections": []
    },
    "kernelspec": {
      "name": "python3",
      "display_name": "Python 3"
    },
    "accelerator": "GPU"
  },
  "cells": [
    {
      "cell_type": "markdown",
      "metadata": {
        "id": "ZqcutxUiSILa",
        "colab_type": "text"
      },
      "source": [
        "# Get Data"
      ]
    },
    {
      "cell_type": "code",
      "metadata": {
        "id": "jhWsYmj9SFAz",
        "colab_type": "code",
        "colab": {}
      },
      "source": [
        "import requests\n",
        "import pandas as pd"
      ],
      "execution_count": 0,
      "outputs": []
    },
    {
      "cell_type": "code",
      "metadata": {
        "id": "Lsilk8EdQeUO",
        "colab_type": "code",
        "colab": {}
      },
      "source": [
        "url = 'https://raw.githubusercontent.com/MarkIChen/Bank-Customer-Classification-Model/master/Churn_Modelling.csv'\n",
        "dataset = pd.read_csv(url)"
      ],
      "execution_count": 0,
      "outputs": []
    },
    {
      "cell_type": "code",
      "metadata": {
        "id": "fUyL44HmScBz",
        "colab_type": "code",
        "colab": {
          "base_uri": "https://localhost:8080/",
          "height": 368
        },
        "outputId": "45a622f5-9f8c-45e7-df59-f54072a6ccd8"
      },
      "source": [
        "dataset.head(10)"
      ],
      "execution_count": 46,
      "outputs": [
        {
          "output_type": "execute_result",
          "data": {
            "text/html": [
              "<div>\n",
              "<style scoped>\n",
              "    .dataframe tbody tr th:only-of-type {\n",
              "        vertical-align: middle;\n",
              "    }\n",
              "\n",
              "    .dataframe tbody tr th {\n",
              "        vertical-align: top;\n",
              "    }\n",
              "\n",
              "    .dataframe thead th {\n",
              "        text-align: right;\n",
              "    }\n",
              "</style>\n",
              "<table border=\"1\" class=\"dataframe\">\n",
              "  <thead>\n",
              "    <tr style=\"text-align: right;\">\n",
              "      <th></th>\n",
              "      <th>RowNumber</th>\n",
              "      <th>CustomerId</th>\n",
              "      <th>Surname</th>\n",
              "      <th>CreditScore</th>\n",
              "      <th>Geography</th>\n",
              "      <th>Gender</th>\n",
              "      <th>Age</th>\n",
              "      <th>Tenure</th>\n",
              "      <th>Balance</th>\n",
              "      <th>NumOfProducts</th>\n",
              "      <th>HasCrCard</th>\n",
              "      <th>IsActiveMember</th>\n",
              "      <th>EstimatedSalary</th>\n",
              "      <th>Exited</th>\n",
              "    </tr>\n",
              "  </thead>\n",
              "  <tbody>\n",
              "    <tr>\n",
              "      <th>0</th>\n",
              "      <td>1</td>\n",
              "      <td>15634602</td>\n",
              "      <td>Hargrave</td>\n",
              "      <td>619</td>\n",
              "      <td>France</td>\n",
              "      <td>Female</td>\n",
              "      <td>42</td>\n",
              "      <td>2</td>\n",
              "      <td>0.00</td>\n",
              "      <td>1</td>\n",
              "      <td>1</td>\n",
              "      <td>1</td>\n",
              "      <td>101348.88</td>\n",
              "      <td>1</td>\n",
              "    </tr>\n",
              "    <tr>\n",
              "      <th>1</th>\n",
              "      <td>2</td>\n",
              "      <td>15647311</td>\n",
              "      <td>Hill</td>\n",
              "      <td>608</td>\n",
              "      <td>Spain</td>\n",
              "      <td>Female</td>\n",
              "      <td>41</td>\n",
              "      <td>1</td>\n",
              "      <td>83807.86</td>\n",
              "      <td>1</td>\n",
              "      <td>0</td>\n",
              "      <td>1</td>\n",
              "      <td>112542.58</td>\n",
              "      <td>0</td>\n",
              "    </tr>\n",
              "    <tr>\n",
              "      <th>2</th>\n",
              "      <td>3</td>\n",
              "      <td>15619304</td>\n",
              "      <td>Onio</td>\n",
              "      <td>502</td>\n",
              "      <td>France</td>\n",
              "      <td>Female</td>\n",
              "      <td>42</td>\n",
              "      <td>8</td>\n",
              "      <td>159660.80</td>\n",
              "      <td>3</td>\n",
              "      <td>1</td>\n",
              "      <td>0</td>\n",
              "      <td>113931.57</td>\n",
              "      <td>1</td>\n",
              "    </tr>\n",
              "    <tr>\n",
              "      <th>3</th>\n",
              "      <td>4</td>\n",
              "      <td>15701354</td>\n",
              "      <td>Boni</td>\n",
              "      <td>699</td>\n",
              "      <td>France</td>\n",
              "      <td>Female</td>\n",
              "      <td>39</td>\n",
              "      <td>1</td>\n",
              "      <td>0.00</td>\n",
              "      <td>2</td>\n",
              "      <td>0</td>\n",
              "      <td>0</td>\n",
              "      <td>93826.63</td>\n",
              "      <td>0</td>\n",
              "    </tr>\n",
              "    <tr>\n",
              "      <th>4</th>\n",
              "      <td>5</td>\n",
              "      <td>15737888</td>\n",
              "      <td>Mitchell</td>\n",
              "      <td>850</td>\n",
              "      <td>Spain</td>\n",
              "      <td>Female</td>\n",
              "      <td>43</td>\n",
              "      <td>2</td>\n",
              "      <td>125510.82</td>\n",
              "      <td>1</td>\n",
              "      <td>1</td>\n",
              "      <td>1</td>\n",
              "      <td>79084.10</td>\n",
              "      <td>0</td>\n",
              "    </tr>\n",
              "    <tr>\n",
              "      <th>5</th>\n",
              "      <td>6</td>\n",
              "      <td>15574012</td>\n",
              "      <td>Chu</td>\n",
              "      <td>645</td>\n",
              "      <td>Spain</td>\n",
              "      <td>Male</td>\n",
              "      <td>44</td>\n",
              "      <td>8</td>\n",
              "      <td>113755.78</td>\n",
              "      <td>2</td>\n",
              "      <td>1</td>\n",
              "      <td>0</td>\n",
              "      <td>149756.71</td>\n",
              "      <td>1</td>\n",
              "    </tr>\n",
              "    <tr>\n",
              "      <th>6</th>\n",
              "      <td>7</td>\n",
              "      <td>15592531</td>\n",
              "      <td>Bartlett</td>\n",
              "      <td>822</td>\n",
              "      <td>France</td>\n",
              "      <td>Male</td>\n",
              "      <td>50</td>\n",
              "      <td>7</td>\n",
              "      <td>0.00</td>\n",
              "      <td>2</td>\n",
              "      <td>1</td>\n",
              "      <td>1</td>\n",
              "      <td>10062.80</td>\n",
              "      <td>0</td>\n",
              "    </tr>\n",
              "    <tr>\n",
              "      <th>7</th>\n",
              "      <td>8</td>\n",
              "      <td>15656148</td>\n",
              "      <td>Obinna</td>\n",
              "      <td>376</td>\n",
              "      <td>Germany</td>\n",
              "      <td>Female</td>\n",
              "      <td>29</td>\n",
              "      <td>4</td>\n",
              "      <td>115046.74</td>\n",
              "      <td>4</td>\n",
              "      <td>1</td>\n",
              "      <td>0</td>\n",
              "      <td>119346.88</td>\n",
              "      <td>1</td>\n",
              "    </tr>\n",
              "    <tr>\n",
              "      <th>8</th>\n",
              "      <td>9</td>\n",
              "      <td>15792365</td>\n",
              "      <td>He</td>\n",
              "      <td>501</td>\n",
              "      <td>France</td>\n",
              "      <td>Male</td>\n",
              "      <td>44</td>\n",
              "      <td>4</td>\n",
              "      <td>142051.07</td>\n",
              "      <td>2</td>\n",
              "      <td>0</td>\n",
              "      <td>1</td>\n",
              "      <td>74940.50</td>\n",
              "      <td>0</td>\n",
              "    </tr>\n",
              "    <tr>\n",
              "      <th>9</th>\n",
              "      <td>10</td>\n",
              "      <td>15592389</td>\n",
              "      <td>H?</td>\n",
              "      <td>684</td>\n",
              "      <td>France</td>\n",
              "      <td>Male</td>\n",
              "      <td>27</td>\n",
              "      <td>2</td>\n",
              "      <td>134603.88</td>\n",
              "      <td>1</td>\n",
              "      <td>1</td>\n",
              "      <td>1</td>\n",
              "      <td>71725.73</td>\n",
              "      <td>0</td>\n",
              "    </tr>\n",
              "  </tbody>\n",
              "</table>\n",
              "</div>"
            ],
            "text/plain": [
              "   RowNumber  CustomerId   Surname  ...  IsActiveMember EstimatedSalary Exited\n",
              "0          1    15634602  Hargrave  ...               1       101348.88      1\n",
              "1          2    15647311      Hill  ...               1       112542.58      0\n",
              "2          3    15619304      Onio  ...               0       113931.57      1\n",
              "3          4    15701354      Boni  ...               0        93826.63      0\n",
              "4          5    15737888  Mitchell  ...               1        79084.10      0\n",
              "5          6    15574012       Chu  ...               0       149756.71      1\n",
              "6          7    15592531  Bartlett  ...               1        10062.80      0\n",
              "7          8    15656148    Obinna  ...               0       119346.88      1\n",
              "8          9    15792365        He  ...               1        74940.50      0\n",
              "9         10    15592389        H?  ...               1        71725.73      0\n",
              "\n",
              "[10 rows x 14 columns]"
            ]
          },
          "metadata": {
            "tags": []
          },
          "execution_count": 46
        }
      ]
    },
    {
      "cell_type": "code",
      "metadata": {
        "id": "AqRO7FTMZDqy",
        "colab_type": "code",
        "colab": {
          "base_uri": "https://localhost:8080/",
          "height": 35
        },
        "outputId": "4bffc4e4-b056-4154-ce8b-e88f0ecc5ea3"
      },
      "source": [
        "dataset.shape"
      ],
      "execution_count": 47,
      "outputs": [
        {
          "output_type": "execute_result",
          "data": {
            "text/plain": [
              "(10000, 14)"
            ]
          },
          "metadata": {
            "tags": []
          },
          "execution_count": 47
        }
      ]
    },
    {
      "cell_type": "markdown",
      "metadata": {
        "id": "CaprJFKsT1jp",
        "colab_type": "text"
      },
      "source": [
        "# Create Training Data"
      ]
    },
    {
      "cell_type": "code",
      "metadata": {
        "id": "c9FwmRp5T4cU",
        "colab_type": "code",
        "colab": {}
      },
      "source": [
        "X = dataset.iloc[:, 3:13].values\n",
        "y = dataset.iloc[:, 13].values"
      ],
      "execution_count": 0,
      "outputs": []
    },
    {
      "cell_type": "code",
      "metadata": {
        "id": "GERHhVvVZHje",
        "colab_type": "code",
        "colab": {
          "base_uri": "https://localhost:8080/",
          "height": 35
        },
        "outputId": "9f89fc41-0d16-4240-cb40-0caa722a8de7"
      },
      "source": [
        "X.shape, y.shape"
      ],
      "execution_count": 49,
      "outputs": [
        {
          "output_type": "execute_result",
          "data": {
            "text/plain": [
              "((10000, 10), (10000,))"
            ]
          },
          "metadata": {
            "tags": []
          },
          "execution_count": 49
        }
      ]
    },
    {
      "cell_type": "code",
      "metadata": {
        "id": "j6Az_K-fyNrS",
        "colab_type": "code",
        "colab": {
          "base_uri": "https://localhost:8080/",
          "height": 35
        },
        "outputId": "1a93e570-8bc4-47de-9658-33f3a2399ee3"
      },
      "source": [
        "y"
      ],
      "execution_count": 50,
      "outputs": [
        {
          "output_type": "execute_result",
          "data": {
            "text/plain": [
              "array([1, 0, 1, ..., 1, 1, 0])"
            ]
          },
          "metadata": {
            "tags": []
          },
          "execution_count": 50
        }
      ]
    },
    {
      "cell_type": "markdown",
      "metadata": {
        "id": "AiUs3LsWUNY6",
        "colab_type": "text"
      },
      "source": [
        "# Encode dataset"
      ]
    },
    {
      "cell_type": "code",
      "metadata": {
        "id": "tI6hT7PZUCJ8",
        "colab_type": "code",
        "colab": {
          "base_uri": "https://localhost:8080/",
          "height": 0
        },
        "outputId": "27031ea1-ef05-4206-84dd-80c89affa579"
      },
      "source": [
        "X"
      ],
      "execution_count": 51,
      "outputs": [
        {
          "output_type": "execute_result",
          "data": {
            "text/plain": [
              "array([[619, 'France', 'Female', ..., 1, 1, 101348.88],\n",
              "       [608, 'Spain', 'Female', ..., 0, 1, 112542.58],\n",
              "       [502, 'France', 'Female', ..., 1, 0, 113931.57],\n",
              "       ...,\n",
              "       [709, 'France', 'Female', ..., 0, 1, 42085.58],\n",
              "       [772, 'Germany', 'Male', ..., 1, 0, 92888.52],\n",
              "       [792, 'France', 'Female', ..., 1, 0, 38190.78]], dtype=object)"
            ]
          },
          "metadata": {
            "tags": []
          },
          "execution_count": 51
        }
      ]
    },
    {
      "cell_type": "markdown",
      "metadata": {
        "id": "fxj5FRiRUe5q",
        "colab_type": "text"
      },
      "source": [
        "We need to encide contry and gender variables."
      ]
    },
    {
      "cell_type": "code",
      "metadata": {
        "id": "RU4Y6ZbEUCrs",
        "colab_type": "code",
        "colab": {}
      },
      "source": [
        "from sklearn.preprocessing import LabelEncoder, OneHotEncoder\n",
        "from sklearn.compose import ColumnTransformer"
      ],
      "execution_count": 0,
      "outputs": []
    },
    {
      "cell_type": "code",
      "metadata": {
        "id": "_xZEi3l6UqMz",
        "colab_type": "code",
        "colab": {}
      },
      "source": [
        "labelencoder_X_1 = LabelEncoder()\n",
        "X[:, 1] = labelencoder_X_1.fit_transform(X[:, 1]) "
      ],
      "execution_count": 0,
      "outputs": []
    },
    {
      "cell_type": "code",
      "metadata": {
        "colab_type": "code",
        "id": "_u6BTJSCm9iC",
        "colab": {}
      },
      "source": [
        "labelencoder_X_2 = LabelEncoder()\n",
        "X[:, 2] = labelencoder_X_2.fit_transform(X[:, 2]) "
      ],
      "execution_count": 0,
      "outputs": []
    },
    {
      "cell_type": "code",
      "metadata": {
        "id": "6eaCSKJUnBNF",
        "colab_type": "code",
        "colab": {
          "base_uri": "https://localhost:8080/",
          "height": 0
        },
        "outputId": "e2d7fbcb-ff4f-4af8-ad0c-391416920031"
      },
      "source": [
        "X"
      ],
      "execution_count": 55,
      "outputs": [
        {
          "output_type": "execute_result",
          "data": {
            "text/plain": [
              "array([[619, 0, 0, ..., 1, 1, 101348.88],\n",
              "       [608, 2, 0, ..., 0, 1, 112542.58],\n",
              "       [502, 0, 0, ..., 1, 0, 113931.57],\n",
              "       ...,\n",
              "       [709, 0, 0, ..., 0, 1, 42085.58],\n",
              "       [772, 1, 1, ..., 1, 0, 92888.52],\n",
              "       [792, 0, 0, ..., 1, 0, 38190.78]], dtype=object)"
            ]
          },
          "metadata": {
            "tags": []
          },
          "execution_count": 55
        }
      ]
    },
    {
      "cell_type": "code",
      "metadata": {
        "id": "NziFUT8JVPqv",
        "colab_type": "code",
        "colab": {
          "base_uri": "https://localhost:8080/",
          "height": 0
        },
        "outputId": "abd58403-0010-40ac-acbc-6f90954161e9"
      },
      "source": [
        "X.shape"
      ],
      "execution_count": 56,
      "outputs": [
        {
          "output_type": "execute_result",
          "data": {
            "text/plain": [
              "(10000, 10)"
            ]
          },
          "metadata": {
            "tags": []
          },
          "execution_count": 56
        }
      ]
    },
    {
      "cell_type": "code",
      "metadata": {
        "id": "SYhygVeuVlft",
        "colab_type": "code",
        "colab": {}
      },
      "source": [
        "# onehotencoder = OneHotEncoder(categorical_features=[1])\n",
        "# X = onehotencoder.fit_transform(X).toarray()\n",
        "ct = ColumnTransformer([(\"Country\", OneHotEncoder(), [1])], remainder = 'passthrough')\n",
        "X = ct.fit_transform(X)"
      ],
      "execution_count": 0,
      "outputs": []
    },
    {
      "cell_type": "code",
      "metadata": {
        "id": "x1DVh1rJmtaV",
        "colab_type": "code",
        "colab": {
          "base_uri": "https://localhost:8080/",
          "height": 0
        },
        "outputId": "6355199d-5605-4dbb-ac6b-bd84a419a2f0"
      },
      "source": [
        "X"
      ],
      "execution_count": 58,
      "outputs": [
        {
          "output_type": "execute_result",
          "data": {
            "text/plain": [
              "array([[1.0, 0.0, 0.0, ..., 1, 1, 101348.88],\n",
              "       [0.0, 0.0, 1.0, ..., 0, 1, 112542.58],\n",
              "       [1.0, 0.0, 0.0, ..., 1, 0, 113931.57],\n",
              "       ...,\n",
              "       [1.0, 0.0, 0.0, ..., 0, 1, 42085.58],\n",
              "       [0.0, 1.0, 0.0, ..., 1, 0, 92888.52],\n",
              "       [1.0, 0.0, 0.0, ..., 1, 0, 38190.78]], dtype=object)"
            ]
          },
          "metadata": {
            "tags": []
          },
          "execution_count": 58
        }
      ]
    },
    {
      "cell_type": "code",
      "metadata": {
        "id": "5LgwzLg6VQCJ",
        "colab_type": "code",
        "colab": {
          "base_uri": "https://localhost:8080/",
          "height": 0
        },
        "outputId": "e5357296-e8dd-4a20-b57f-22b1d8a1d6a1"
      },
      "source": [
        "X.shape"
      ],
      "execution_count": 59,
      "outputs": [
        {
          "output_type": "execute_result",
          "data": {
            "text/plain": [
              "(10000, 12)"
            ]
          },
          "metadata": {
            "tags": []
          },
          "execution_count": 59
        }
      ]
    },
    {
      "cell_type": "markdown",
      "metadata": {
        "id": "R3Bgo60FW0PZ",
        "colab_type": "text"
      },
      "source": [
        "To avoid dumy variable, delete the first col.\n"
      ]
    },
    {
      "cell_type": "code",
      "metadata": {
        "id": "EbxTWOZMWz1v",
        "colab_type": "code",
        "colab": {}
      },
      "source": [
        "X = X[:, 1:]"
      ],
      "execution_count": 0,
      "outputs": []
    },
    {
      "cell_type": "code",
      "metadata": {
        "id": "oG8yI5iOWYkv",
        "colab_type": "code",
        "colab": {
          "base_uri": "https://localhost:8080/",
          "height": 0
        },
        "outputId": "c0808d8d-b7c9-41e1-f822-b98f761c7874"
      },
      "source": [
        "X.shape"
      ],
      "execution_count": 61,
      "outputs": [
        {
          "output_type": "execute_result",
          "data": {
            "text/plain": [
              "(10000, 11)"
            ]
          },
          "metadata": {
            "tags": []
          },
          "execution_count": 61
        }
      ]
    },
    {
      "cell_type": "markdown",
      "metadata": {
        "id": "pMqiuXkOXHOE",
        "colab_type": "text"
      },
      "source": [
        "# Split data"
      ]
    },
    {
      "cell_type": "code",
      "metadata": {
        "id": "m798XDqWW7L_",
        "colab_type": "code",
        "colab": {}
      },
      "source": [
        "from sklearn.model_selection import  train_test_split"
      ],
      "execution_count": 0,
      "outputs": []
    },
    {
      "cell_type": "code",
      "metadata": {
        "id": "QWAV1unxXOho",
        "colab_type": "code",
        "colab": {}
      },
      "source": [
        "X_train, X_test, y_train, y_test = train_test_split(X, y, \n",
        "                                                    test_size = 0.2,\n",
        "                                                    random_state = 0\n",
        "                                                    )"
      ],
      "execution_count": 0,
      "outputs": []
    },
    {
      "cell_type": "markdown",
      "metadata": {
        "id": "LpSD2W8Ay7oT",
        "colab_type": "text"
      },
      "source": [
        "# Feature Scaling"
      ]
    },
    {
      "cell_type": "markdown",
      "metadata": {
        "id": "vBaXU41Rz6vM",
        "colab_type": "text"
      },
      "source": [
        "I forgot this process in the beginning, and it will cause bias of the model."
      ]
    },
    {
      "cell_type": "code",
      "metadata": {
        "id": "LKUhCxsYy7Cm",
        "colab_type": "code",
        "colab": {}
      },
      "source": [
        "from sklearn.preprocessing import StandardScaler"
      ],
      "execution_count": 0,
      "outputs": []
    },
    {
      "cell_type": "code",
      "metadata": {
        "id": "Dhfp1wXszE4K",
        "colab_type": "code",
        "colab": {}
      },
      "source": [
        "sc = StandardScaler()\n",
        "X_train = sc.fit_transform(X_train)\n",
        "X_test = sc.fit_transform(X_test)"
      ],
      "execution_count": 0,
      "outputs": []
    },
    {
      "cell_type": "markdown",
      "metadata": {
        "id": "2IMtrLTgX5L8",
        "colab_type": "text"
      },
      "source": [
        "# Import Library"
      ]
    },
    {
      "cell_type": "code",
      "metadata": {
        "id": "BSoigEsuXcmW",
        "colab_type": "code",
        "colab": {}
      },
      "source": [
        "import tensorflow.keras as keras\n",
        "from keras.models import Sequential\n",
        "from keras.layers import Dense"
      ],
      "execution_count": 0,
      "outputs": []
    },
    {
      "cell_type": "markdown",
      "metadata": {
        "id": "d3TjxyCEYWXD",
        "colab_type": "text"
      },
      "source": [
        "# Initializing ANN and Building the model"
      ]
    },
    {
      "cell_type": "code",
      "metadata": {
        "id": "PVVuIvb9X71w",
        "colab_type": "code",
        "colab": {}
      },
      "source": [
        "classifier = Sequential()"
      ],
      "execution_count": 0,
      "outputs": []
    },
    {
      "cell_type": "code",
      "metadata": {
        "id": "3g5Ulz86Yin1",
        "colab_type": "code",
        "colab": {
          "base_uri": "https://localhost:8080/",
          "height": 35
        },
        "outputId": "153e62ff-b27e-4d18-e671-5187ea1ff81d"
      },
      "source": [
        "X_train.shape"
      ],
      "execution_count": 68,
      "outputs": [
        {
          "output_type": "execute_result",
          "data": {
            "text/plain": [
              "(8000, 11)"
            ]
          },
          "metadata": {
            "tags": []
          },
          "execution_count": 68
        }
      ]
    },
    {
      "cell_type": "code",
      "metadata": {
        "id": "R-htmwF3Y6Kp",
        "colab_type": "code",
        "colab": {}
      },
      "source": [
        "# First layer\n",
        "classifier.add(Dense(6, input_dim = 11, kernel_initializer = 'uniform', activation= 'relu'))\n",
        "# Second layer\n",
        "classifier.add(Dense(6, kernel_initializer='uniform', activation='relu'))\n",
        "classifier.add(Dense(6, kernel_initializer='uniform', activation='relu'))\n",
        "\n",
        "# output layer\n",
        "classifier.add(Dense(1, kernel_initializer='uniform', activation='sigmoid'))"
      ],
      "execution_count": 0,
      "outputs": []
    },
    {
      "cell_type": "code",
      "metadata": {
        "id": "f7RjRp06dt_g",
        "colab_type": "code",
        "colab": {}
      },
      "source": [
        "# apply some algorithms to update the weights in the model\n",
        "classifier.compile(optimizer='adam', loss='binary_crossentropy', metrics=['accuracy'])"
      ],
      "execution_count": 0,
      "outputs": []
    },
    {
      "cell_type": "markdown",
      "metadata": {
        "id": "EzOzhM07ffXr",
        "colab_type": "text"
      },
      "source": [
        "# Train the ANN model"
      ]
    },
    {
      "cell_type": "code",
      "metadata": {
        "id": "y8obOPnae2W2",
        "colab_type": "code",
        "colab": {
          "base_uri": "https://localhost:8080/",
          "height": 1000
        },
        "outputId": "ae68bb66-6088-447e-9159-83f98dacab81"
      },
      "source": [
        "classifier.fit(X_train, y_train, batch_size=100, epochs=50)"
      ],
      "execution_count": 71,
      "outputs": [
        {
          "output_type": "stream",
          "text": [
            "Epoch 1/50\n",
            "8000/8000 [==============================] - 1s 68us/step - loss: 0.6753 - acc: 0.7949\n",
            "Epoch 2/50\n",
            "8000/8000 [==============================] - 0s 46us/step - loss: 0.5692 - acc: 0.7960\n",
            "Epoch 3/50\n",
            "8000/8000 [==============================] - 0s 35us/step - loss: 0.4568 - acc: 0.7960\n",
            "Epoch 4/50\n",
            "8000/8000 [==============================] - 0s 37us/step - loss: 0.4425 - acc: 0.7960\n",
            "Epoch 5/50\n",
            "8000/8000 [==============================] - 0s 38us/step - loss: 0.4360 - acc: 0.7960\n",
            "Epoch 6/50\n",
            "8000/8000 [==============================] - 0s 36us/step - loss: 0.4321 - acc: 0.7960\n",
            "Epoch 7/50\n",
            "8000/8000 [==============================] - 0s 36us/step - loss: 0.4300 - acc: 0.7960\n",
            "Epoch 8/50\n",
            "8000/8000 [==============================] - 0s 36us/step - loss: 0.4284 - acc: 0.7960\n",
            "Epoch 9/50\n",
            "8000/8000 [==============================] - 0s 36us/step - loss: 0.4272 - acc: 0.7960\n",
            "Epoch 10/50\n",
            "8000/8000 [==============================] - 0s 35us/step - loss: 0.4264 - acc: 0.7960\n",
            "Epoch 11/50\n",
            "8000/8000 [==============================] - 0s 36us/step - loss: 0.4259 - acc: 0.7960\n",
            "Epoch 12/50\n",
            "8000/8000 [==============================] - 0s 38us/step - loss: 0.4250 - acc: 0.7960\n",
            "Epoch 13/50\n",
            "8000/8000 [==============================] - 0s 37us/step - loss: 0.4246 - acc: 0.7960\n",
            "Epoch 14/50\n",
            "8000/8000 [==============================] - 0s 35us/step - loss: 0.4238 - acc: 0.7960\n",
            "Epoch 15/50\n",
            "8000/8000 [==============================] - 0s 35us/step - loss: 0.4227 - acc: 0.7960\n",
            "Epoch 16/50\n",
            "8000/8000 [==============================] - 0s 37us/step - loss: 0.4216 - acc: 0.7960\n",
            "Epoch 17/50\n",
            "8000/8000 [==============================] - 0s 41us/step - loss: 0.4206 - acc: 0.7960\n",
            "Epoch 18/50\n",
            "8000/8000 [==============================] - 0s 37us/step - loss: 0.4194 - acc: 0.7960\n",
            "Epoch 19/50\n",
            "8000/8000 [==============================] - 0s 37us/step - loss: 0.4182 - acc: 0.8006\n",
            "Epoch 20/50\n",
            "8000/8000 [==============================] - 0s 37us/step - loss: 0.4174 - acc: 0.8234\n",
            "Epoch 21/50\n",
            "8000/8000 [==============================] - 0s 35us/step - loss: 0.4166 - acc: 0.8247\n",
            "Epoch 22/50\n",
            "8000/8000 [==============================] - 0s 36us/step - loss: 0.4156 - acc: 0.8259\n",
            "Epoch 23/50\n",
            "8000/8000 [==============================] - 0s 35us/step - loss: 0.4150 - acc: 0.8280\n",
            "Epoch 24/50\n",
            "8000/8000 [==============================] - 0s 38us/step - loss: 0.4142 - acc: 0.8286\n",
            "Epoch 25/50\n",
            "8000/8000 [==============================] - 0s 35us/step - loss: 0.4135 - acc: 0.8294\n",
            "Epoch 26/50\n",
            "8000/8000 [==============================] - 0s 44us/step - loss: 0.4126 - acc: 0.8310\n",
            "Epoch 27/50\n",
            "8000/8000 [==============================] - 0s 48us/step - loss: 0.4118 - acc: 0.8306\n",
            "Epoch 28/50\n",
            "8000/8000 [==============================] - 0s 44us/step - loss: 0.4113 - acc: 0.8330\n",
            "Epoch 29/50\n",
            "8000/8000 [==============================] - 0s 38us/step - loss: 0.4103 - acc: 0.8322\n",
            "Epoch 30/50\n",
            "8000/8000 [==============================] - 0s 37us/step - loss: 0.4099 - acc: 0.8349\n",
            "Epoch 31/50\n",
            "8000/8000 [==============================] - 0s 39us/step - loss: 0.4091 - acc: 0.8354\n",
            "Epoch 32/50\n",
            "8000/8000 [==============================] - 0s 35us/step - loss: 0.4084 - acc: 0.8350\n",
            "Epoch 33/50\n",
            "8000/8000 [==============================] - 0s 37us/step - loss: 0.4082 - acc: 0.8349\n",
            "Epoch 34/50\n",
            "8000/8000 [==============================] - 0s 39us/step - loss: 0.4074 - acc: 0.8341\n",
            "Epoch 35/50\n",
            "8000/8000 [==============================] - 0s 38us/step - loss: 0.4068 - acc: 0.8349\n",
            "Epoch 36/50\n",
            "8000/8000 [==============================] - 0s 36us/step - loss: 0.4063 - acc: 0.8361\n",
            "Epoch 37/50\n",
            "8000/8000 [==============================] - 0s 37us/step - loss: 0.4060 - acc: 0.8355\n",
            "Epoch 38/50\n",
            "8000/8000 [==============================] - 0s 34us/step - loss: 0.4054 - acc: 0.8364\n",
            "Epoch 39/50\n",
            "8000/8000 [==============================] - 0s 36us/step - loss: 0.4051 - acc: 0.8357\n",
            "Epoch 40/50\n",
            "8000/8000 [==============================] - 0s 39us/step - loss: 0.4045 - acc: 0.8367\n",
            "Epoch 41/50\n",
            "8000/8000 [==============================] - 0s 36us/step - loss: 0.4043 - acc: 0.8358\n",
            "Epoch 42/50\n",
            "8000/8000 [==============================] - 0s 37us/step - loss: 0.4037 - acc: 0.8351\n",
            "Epoch 43/50\n",
            "8000/8000 [==============================] - 0s 35us/step - loss: 0.4035 - acc: 0.8360\n",
            "Epoch 44/50\n",
            "8000/8000 [==============================] - 0s 39us/step - loss: 0.4029 - acc: 0.8367\n",
            "Epoch 45/50\n",
            "8000/8000 [==============================] - 0s 35us/step - loss: 0.4024 - acc: 0.8357\n",
            "Epoch 46/50\n",
            "8000/8000 [==============================] - 0s 38us/step - loss: 0.4021 - acc: 0.8357\n",
            "Epoch 47/50\n",
            "8000/8000 [==============================] - 0s 38us/step - loss: 0.4024 - acc: 0.8346\n",
            "Epoch 48/50\n",
            "8000/8000 [==============================] - 0s 36us/step - loss: 0.4018 - acc: 0.8347\n",
            "Epoch 49/50\n",
            "8000/8000 [==============================] - 0s 38us/step - loss: 0.4012 - acc: 0.8341\n",
            "Epoch 50/50\n",
            "8000/8000 [==============================] - 0s 35us/step - loss: 0.4009 - acc: 0.8344\n"
          ],
          "name": "stdout"
        },
        {
          "output_type": "execute_result",
          "data": {
            "text/plain": [
              "<keras.callbacks.History at 0x7f5a401f3160>"
            ]
          },
          "metadata": {
            "tags": []
          },
          "execution_count": 71
        }
      ]
    },
    {
      "cell_type": "code",
      "metadata": {
        "id": "yrvMB0OggdQf",
        "colab_type": "code",
        "colab": {}
      },
      "source": [
        "y_pred = classifier.predict(X_test)"
      ],
      "execution_count": 0,
      "outputs": []
    },
    {
      "cell_type": "code",
      "metadata": {
        "id": "BTdwTUg1iRjo",
        "colab_type": "code",
        "colab": {
          "base_uri": "https://localhost:8080/",
          "height": 242
        },
        "outputId": "39c36336-43ed-4e9e-e240-bc974a6b556f"
      },
      "source": [
        "X_test"
      ],
      "execution_count": 73,
      "outputs": [
        {
          "output_type": "execute_result",
          "data": {
            "text/plain": [
              "array([[ 1.62776996, -0.57427105, -0.56129438, ...,  0.66011376,\n",
              "         0.97628121,  1.62185911],\n",
              "       [-0.61433742, -0.57427105, -1.33847768, ...,  0.66011376,\n",
              "        -1.02429504,  0.504204  ],\n",
              "       [-0.61433742,  1.74133801,  0.58347561, ...,  0.66011376,\n",
              "         0.97628121, -0.41865644],\n",
              "       ...,\n",
              "       [-0.61433742,  1.74133801, -0.76084144, ...,  0.66011376,\n",
              "        -1.02429504,  0.72775202],\n",
              "       [ 1.62776996, -0.57427105, -0.0046631 , ...,  0.66011376,\n",
              "         0.97628121, -1.54162886],\n",
              "       [ 1.62776996, -0.57427105, -0.81335383, ...,  0.66011376,\n",
              "        -1.02429504,  1.62356528]])"
            ]
          },
          "metadata": {
            "tags": []
          },
          "execution_count": 73
        }
      ]
    },
    {
      "cell_type": "code",
      "metadata": {
        "id": "XXRMehaShmcI",
        "colab_type": "code",
        "colab": {
          "base_uri": "https://localhost:8080/",
          "height": 138
        },
        "outputId": "85f640c1-8fe4-4482-9426-657d314b6f45"
      },
      "source": [
        "y_pred"
      ],
      "execution_count": 74,
      "outputs": [
        {
          "output_type": "execute_result",
          "data": {
            "text/plain": [
              "array([[0.14243808],\n",
              "       [0.3034235 ],\n",
              "       [0.14705995],\n",
              "       ...,\n",
              "       [0.19851118],\n",
              "       [0.12661022],\n",
              "       [0.11844042]], dtype=float32)"
            ]
          },
          "metadata": {
            "tags": []
          },
          "execution_count": 74
        }
      ]
    },
    {
      "cell_type": "code",
      "metadata": {
        "id": "sY4IGi7ihrUp",
        "colab_type": "code",
        "colab": {}
      },
      "source": [
        "y_pred = (y_pred > 0.5)"
      ],
      "execution_count": 0,
      "outputs": []
    },
    {
      "cell_type": "code",
      "metadata": {
        "id": "1FG0cnA_hxfG",
        "colab_type": "code",
        "colab": {
          "base_uri": "https://localhost:8080/",
          "height": 138
        },
        "outputId": "1be1752e-dedc-47b0-c0d5-680839be4b8f"
      },
      "source": [
        "y_pred"
      ],
      "execution_count": 76,
      "outputs": [
        {
          "output_type": "execute_result",
          "data": {
            "text/plain": [
              "array([[False],\n",
              "       [False],\n",
              "       [False],\n",
              "       ...,\n",
              "       [False],\n",
              "       [False],\n",
              "       [False]])"
            ]
          },
          "metadata": {
            "tags": []
          },
          "execution_count": 76
        }
      ]
    },
    {
      "cell_type": "code",
      "metadata": {
        "id": "IW0F_9-yhyYE",
        "colab_type": "code",
        "colab": {}
      },
      "source": [
        "from sklearn.metrics import confusion_matrix\n",
        "cm = confusion_matrix(y_test, y_pred)"
      ],
      "execution_count": 0,
      "outputs": []
    },
    {
      "cell_type": "code",
      "metadata": {
        "id": "txW-ZNtyh-nA",
        "colab_type": "code",
        "colab": {
          "base_uri": "https://localhost:8080/",
          "height": 52
        },
        "outputId": "59e08c90-1200-4af6-98bd-65ac1ca14b6b"
      },
      "source": [
        "cm"
      ],
      "execution_count": 78,
      "outputs": [
        {
          "output_type": "execute_result",
          "data": {
            "text/plain": [
              "array([[1564,   31],\n",
              "       [ 279,  126]])"
            ]
          },
          "metadata": {
            "tags": []
          },
          "execution_count": 78
        }
      ]
    },
    {
      "cell_type": "code",
      "metadata": {
        "id": "O1Ia9bHryGs1",
        "colab_type": "code",
        "colab": {}
      },
      "source": [
        ""
      ],
      "execution_count": 0,
      "outputs": []
    }
  ]
}